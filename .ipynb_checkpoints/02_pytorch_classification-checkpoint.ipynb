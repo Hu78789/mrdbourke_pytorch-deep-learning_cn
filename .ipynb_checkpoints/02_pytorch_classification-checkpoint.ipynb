{
 "cells": [
  {
   "cell_type": "markdown",
   "metadata": {
    "colab_type": "text",
    "id": "view-in-github"
   },
   "source": [
    "<a href=\"https://colab.research.google.com/github/mrdbourke/pytorch-deep-learning/blob/main/02_pytorch_classification.ipynb\" target=\"_parent\"><img src=\"https://colab.research.google.com/assets/colab-badge.svg\" alt=\"Open In Colab\"/></a>\n",
    "\n",
    "[View Source Code](https://github.com/mrdbourke/pytorch-deep-learning/blob/main/02_pytorch_classification.ipynb) | [View Slides](https://github.com/mrdbourke/pytorch-deep-learning/blob/main/slides/02_pytorch_classification.pdf) | [Watch Video Walkthrough](https://youtu.be/Z_ikDlimN6A?t=30691) "
   ]
  },
  {
   "cell_type": "markdown",
   "metadata": {
    "id": "r8C1WSzsHC7x"
   },
   "source": [
    "# 02. PyTorch Neural Network Classification\n",
    "\n",
    "## 分类问题是什么?\n",
    "\n",
    " [分类问题](https://en.wikipedia.org/wiki/Statistical_classification) 是预测某物是什么或者不是什么。\n",
    "\n",
    "例如，你可能想：\n",
    "\n",
    "| Problem type | What is it? | Example |\n",
    "| ----- | ----- | ----- |\n",
    "| **二分类 Binary classification** | 是或者不是 | 通过某人的体检特征预测他是否有心脏病 |\n",
    "| **多分类 Multi-class classification** |可以超过2个选项 | 检测图片是食物、狗还是人。 |\n",
    "| **多标签分类 Multi-label classification** | 可以有多个标签 |预测一篇文章的类型（可以有多个） (e.g. mathematics, science & philosohpy). |\n",
    "\n",
    "<div align=\"center\">\n",
    "<img src=\"https://raw.githubusercontent.com/mrdbourke/pytorch-deep-learning/main/images/02-different-classification-problems.png\" alt=\"various different classification in machine learning such as binary classification, multiclass classification and multilabel classification\" width=900/>\n",
    "</div>\n",
    "    \n",
    "分类问题和回归问题 (predicting a number, covered in [notebook 01](https://www.learnpytorch.io/01_pytorch_workflow/)) 都是机器学习中常见的问题。"
   ]
  },
  {
   "cell_type": "markdown",
   "metadata": {
    "id": "9wTlTaDKH7Oj"
   },
   "source": [
    "## What we're going to cover\n",
    "\n",
    "本章的流程和01的内容基本一致 [01. PyTorch Workflow](https://www.learnpytorch.io/02_pytorch_classification/).\n",
    "\n",
    "<img src=\"https://raw.githubusercontent.com/mrdbourke/pytorch-deep-learning/main/images/01_a_pytorch_workflow.png\" alt=\"a pytorch workflow flowchart\" width=900/>\n",
    "\n",
    "只是这次我们预测的不再是一条直线 (predicting a number, also called a regression problem), 我们要解决一个 **分类问题classification problem**。\n",
    "\n",
    "具体包括:\n",
    "\n",
    "| **Topic** | **Contents** |\n",
    "| ----- | ----- |\n",
    "| **0. 分类神经网络的架构（Architecture）** | 神经网络几乎可以有任何形状或大小，但它们通常遵循类似的平面图。|\n",
    "| **1. 准备二分类数据** | 数据几乎可以是任何东西，但要开始，我们将创建一个简单的二进制分类数据集。 |\n",
    "| **2. 创建PyTorch分类模型** | 创建模型， **损失函数loss function**, **优化器optimizer**，构建 **training loop** | \n",
    "| **3. 训练(training)** | **training**data. |\n",
    "| **4. 评价(inference)** |**testing**data. |\n",
    "| **5. 优化模型 (from a model perspective)** | 我们已经训练了一个评估模型，但它不起作用，让我们尝试一些方法来改进它。|\n",
    "| **6. 非线性** | 到目前为止，我们的模型只能对直线进行建模，那么非线性（非直线）线呢？ |\n",
    "| **7. 复制非线性函数** | 我们使用**非线性函数**来帮助对非线性数据进行建模，但它们是什么样的？|\n",
    "| **8. 使用上述步骤解决多分类问题** | 让我们把到目前为止我们为二元分类所做的一切与一个多类分类问题放在一起。 |\n"
   ]
  },
  {
   "cell_type": "markdown",
   "metadata": {
    "id": "uxdUc9OfHtgU"
   },
   "source": [
    "## Where can can you get help?\n",
    "\n",
    "All of the materials for this course [live on GitHub](https://github.com/mrdbourke/pytorch-deep-learning).\n",
    "\n",
    "And if you run into trouble, you can ask a question on the [Discussions page](https://github.com/mrdbourke/pytorch-deep-learning/discussions) there too.\n",
    "\n",
    "There's also the [PyTorch developer forums](https://discuss.pytorch.org/), a very helpful place for all things PyTorch. \n",
    "\n"
   ]
  },
  {
   "cell_type": "markdown",
   "metadata": {
    "id": "MSLHJiQxH4jU"
   },
   "source": [
    "## 0. Architecture of a classification neural network\n",
    "\n",
    "写代码前，来看看分类网络的一般架构。\n",
    "\n",
    "| **Hyperparameter** | **Binary Classification** | **Multiclass classification** |\n",
    "| --- | --- | --- |\n",
    "| **Input layer shape** (`in_features`) | 特征数量 (e.g. 5 for age, sex, height, weight, smoking status in heart disease prediction) | Same as binary classification |\n",
    "| **Hidden layer(s)** | 和问题相关, minimum = 1, maximum = unlimited | Same as binary classification |\n",
    "| **Neurons per hidden layer** | 问题相关, generally 10 to 512 | Same as binary classification |\n",
    "| **Output layer shape** (`out_features`) | 1 (one class or the other) | 1 per class (e.g. 3 for food, person or dog photo) |\n",
    "| **Hidden layer activation** | 通常用[ReLU](https://pytorch.org/docs/stable/generated/torch.nn.ReLU.html#torch.nn.ReLU) (rectified(整流) linear unit) 但是[其他的也行](https://en.wikipedia.org/wiki/Activation_function#Table_of_activation_functions) | Same as binary classification |\n",
    "| **Output activation** | [Sigmoid](https://en.wikipedia.org/wiki/Sigmoid_function) ([`torch.sigmoid`](https://pytorch.org/docs/stable/generated/torch.sigmoid.html) in PyTorch)| [Softmax](https://en.wikipedia.org/wiki/Softmax_function) ([`torch.softmax`](https://pytorch.org/docs/stable/generated/torch.nn.Softmax.html) in PyTorch) |\n",
    "| **Loss function** | [Binary crossentropy](https://en.wikipedia.org/wiki/Cross_entropy#Cross-entropy_loss_function_and_logistic_regression) ([`torch.nn.BCELoss`](https://pytorch.org/docs/stable/generated/torch.nn.BCELoss.html) in PyTorch) | Cross entropy ([`torch.nn.CrossEntropyLoss`](https://pytorch.org/docs/stable/generated/torch.nn.CrossEntropyLoss.html) in PyTorch) |\n",
    "| **Optimizer** | [SGD](https://pytorch.org/docs/stable/generated/torch.optim.SGD.html) (stochastic gradient descent), [Adam](https://pytorch.org/docs/stable/generated/torch.optim.Adam.html) (see [`torch.optim`](https://pytorch.org/docs/stable/optim.html) for more options) | Same as binary classification |\n",
    "\n",
    "当然，这个分类神经网络组件的成分列表会根据您正在处理的问题而有所不同。\n",
    "\n",
    "但这已经足够开始了。\n",
    "\n",
    "我们将在整个notebook中亲身体验此设置。"
   ]
  },
  {
   "cell_type": "markdown",
   "metadata": {
    "id": "VwvxFEjKHC71"
   },
   "source": [
    "## 1. 准备分类数据\n",
    "\n",
    "\n",
    "使用Scikit-Learn的 [`make_circles()`](https://scikit-learn.org/stable/modules/generated/sklearn.datasets.make_circles.html) 方法生成圆。"
   ]
  },
  {
   "cell_type": "code",
   "execution_count": 1,
   "metadata": {
    "ExecuteTime": {
     "end_time": "2022-09-12T01:53:08.685573Z",
     "start_time": "2022-09-12T01:53:06.118387Z"
    },
    "id": "RGeZvHsyHC72"
   },
   "outputs": [],
   "source": [
    "from sklearn.datasets import make_circles\n",
    "\n",
    "\n",
    "# Make 1000 samples \n",
    "n_samples = 1000\n",
    "\n",
    "# Create circles\n",
    "X, y = make_circles(n_samples,\n",
    "                    noise=0.03, # a little bit of noise to the dots\n",
    "                    random_state=42) # keep random state so we get the same values"
   ]
  },
  {
   "cell_type": "markdown",
   "metadata": {
    "id": "1FwwzJnQV2jv"
   },
   "source": [
    "Alright, now let's view the first 5 `X` and `y` values."
   ]
  },
  {
   "cell_type": "code",
   "execution_count": 2,
   "metadata": {
    "ExecuteTime": {
     "end_time": "2022-09-12T01:53:19.424263Z",
     "start_time": "2022-09-12T01:53:19.412336Z"
    },
    "colab": {
     "base_uri": "https://localhost:8080/"
    },
    "id": "oAb8vcIhWEO8",
    "outputId": "b7316d88-7733-4981-9b4a-0a98c7cdd829"
   },
   "outputs": [
    {
     "name": "stdout",
     "output_type": "stream",
     "text": [
      "First 5 X features:\n",
      "[[ 0.75424625  0.23148074]\n",
      " [-0.75615888  0.15325888]\n",
      " [-0.81539193  0.17328203]\n",
      " [-0.39373073  0.69288277]\n",
      " [ 0.44220765 -0.89672343]]\n",
      "\n",
      "First 5 y labels:\n",
      "[1 1 1 1 0]\n"
     ]
    }
   ],
   "source": [
    "print(f\"First 5 X features:\\n{X[:5]}\")\n",
    "print(f\"\\nFirst 5 y labels:\\n{y[:5]}\")"
   ]
  },
  {
   "cell_type": "markdown",
   "metadata": {
    "id": "ATakj2bVWBou"
   },
   "source": [
    "Looks like there's two `X` values per one `y` value. \n",
    "\n",
    "Let's keep following the data explorer's motto of *visualize, visualize, visualize* and put them into a pandas DataFrame."
   ]
  },
  {
   "cell_type": "code",
   "execution_count": 3,
   "metadata": {
    "ExecuteTime": {
     "end_time": "2022-09-12T01:53:32.699586Z",
     "start_time": "2022-09-12T01:53:28.496404Z"
    },
    "colab": {
     "base_uri": "https://localhost:8080/",
     "height": 363
    },
    "id": "XAAqx_8sHC73",
    "outputId": "cd6ef4fe-cda3-48db-f2a5-9820660eab14"
   },
   "outputs": [
    {
     "data": {
      "text/html": [
       "<div>\n",
       "<style scoped>\n",
       "    .dataframe tbody tr th:only-of-type {\n",
       "        vertical-align: middle;\n",
       "    }\n",
       "\n",
       "    .dataframe tbody tr th {\n",
       "        vertical-align: top;\n",
       "    }\n",
       "\n",
       "    .dataframe thead th {\n",
       "        text-align: right;\n",
       "    }\n",
       "</style>\n",
       "<table border=\"1\" class=\"dataframe\">\n",
       "  <thead>\n",
       "    <tr style=\"text-align: right;\">\n",
       "      <th></th>\n",
       "      <th>X1</th>\n",
       "      <th>X2</th>\n",
       "      <th>label</th>\n",
       "    </tr>\n",
       "  </thead>\n",
       "  <tbody>\n",
       "    <tr>\n",
       "      <th>0</th>\n",
       "      <td>0.754246</td>\n",
       "      <td>0.231481</td>\n",
       "      <td>1</td>\n",
       "    </tr>\n",
       "    <tr>\n",
       "      <th>1</th>\n",
       "      <td>-0.756159</td>\n",
       "      <td>0.153259</td>\n",
       "      <td>1</td>\n",
       "    </tr>\n",
       "    <tr>\n",
       "      <th>2</th>\n",
       "      <td>-0.815392</td>\n",
       "      <td>0.173282</td>\n",
       "      <td>1</td>\n",
       "    </tr>\n",
       "    <tr>\n",
       "      <th>3</th>\n",
       "      <td>-0.393731</td>\n",
       "      <td>0.692883</td>\n",
       "      <td>1</td>\n",
       "    </tr>\n",
       "    <tr>\n",
       "      <th>4</th>\n",
       "      <td>0.442208</td>\n",
       "      <td>-0.896723</td>\n",
       "      <td>0</td>\n",
       "    </tr>\n",
       "    <tr>\n",
       "      <th>5</th>\n",
       "      <td>-0.479646</td>\n",
       "      <td>0.676435</td>\n",
       "      <td>1</td>\n",
       "    </tr>\n",
       "    <tr>\n",
       "      <th>6</th>\n",
       "      <td>-0.013648</td>\n",
       "      <td>0.803349</td>\n",
       "      <td>1</td>\n",
       "    </tr>\n",
       "    <tr>\n",
       "      <th>7</th>\n",
       "      <td>0.771513</td>\n",
       "      <td>0.147760</td>\n",
       "      <td>1</td>\n",
       "    </tr>\n",
       "    <tr>\n",
       "      <th>8</th>\n",
       "      <td>-0.169322</td>\n",
       "      <td>-0.793456</td>\n",
       "      <td>1</td>\n",
       "    </tr>\n",
       "    <tr>\n",
       "      <th>9</th>\n",
       "      <td>-0.121486</td>\n",
       "      <td>1.021509</td>\n",
       "      <td>0</td>\n",
       "    </tr>\n",
       "  </tbody>\n",
       "</table>\n",
       "</div>"
      ],
      "text/plain": [
       "         X1        X2  label\n",
       "0  0.754246  0.231481      1\n",
       "1 -0.756159  0.153259      1\n",
       "2 -0.815392  0.173282      1\n",
       "3 -0.393731  0.692883      1\n",
       "4  0.442208 -0.896723      0\n",
       "5 -0.479646  0.676435      1\n",
       "6 -0.013648  0.803349      1\n",
       "7  0.771513  0.147760      1\n",
       "8 -0.169322 -0.793456      1\n",
       "9 -0.121486  1.021509      0"
      ]
     },
     "execution_count": 3,
     "metadata": {},
     "output_type": "execute_result"
    }
   ],
   "source": [
    "# Make DataFrame of circle data\n",
    "import pandas as pd\n",
    "circles = pd.DataFrame({\"X1\": X[:, 0],\n",
    "    \"X2\": X[:, 1],\n",
    "    \"label\": y\n",
    "})\n",
    "circles.head(10)"
   ]
  },
  {
   "cell_type": "markdown",
   "metadata": {
    "id": "FK2T7GpYW2BE"
   },
   "source": [
    "It looks like each pair of `X` features (`X1` and `X2`) has a label (`y`) value of either 0 or 1.\n",
    "\n",
    "This tells us that our problem is **binary classification** since there's only two options (0 or 1).\n",
    "\n",
    "How many values of each class is there?"
   ]
  },
  {
   "cell_type": "code",
   "execution_count": 4,
   "metadata": {
    "ExecuteTime": {
     "end_time": "2022-09-12T01:53:58.860245Z",
     "start_time": "2022-09-12T01:53:58.851247Z"
    },
    "colab": {
     "base_uri": "https://localhost:8080/"
    },
    "id": "cV8sVR9tHC74",
    "outputId": "dee5739f-1695-4e71-bb0b-de270f08b621"
   },
   "outputs": [
    {
     "data": {
      "text/plain": [
       "1    500\n",
       "0    500\n",
       "Name: label, dtype: int64"
      ]
     },
     "execution_count": 4,
     "metadata": {},
     "output_type": "execute_result"
    }
   ],
   "source": [
    "# Check different labels\n",
    "circles.label.value_counts()"
   ]
  },
  {
   "cell_type": "markdown",
   "metadata": {
    "id": "ytQ5rm9eXa65"
   },
   "source": [
    "500 each, nice and balanced.\n",
    "\n",
    "Let's plot them."
   ]
  },
  {
   "cell_type": "code",
   "execution_count": 5,
   "metadata": {
    "ExecuteTime": {
     "end_time": "2022-09-12T01:54:05.207176Z",
     "start_time": "2022-09-12T01:54:01.923742Z"
    },
    "colab": {
     "base_uri": "https://localhost:8080/",
     "height": 265
    },
    "id": "ANkSmESCHC75",
    "outputId": "89b2f9ac-728c-481d-f4ba-6192a8334758"
   },
   "outputs": [
    {
     "data": {
      "image/png": "[encoded data removed]",
      "text/plain": [
       "<Figure size 432x288 with 1 Axes>"
      ]
     },
     "metadata": {
      "needs_background": "light"
     },
     "output_type": "display_data"
    }
   ],
   "source": [
    "# Visualize with a plot\n",
    "import matplotlib.pyplot as plt\n",
    "plt.scatter(x=X[:, 0], \n",
    "            y=X[:, 1], \n",
    "            c=y, \n",
    "            cmap=plt.cm.RdYlBu);"
   ]
  },
  {
   "cell_type": "markdown",
   "metadata": {
    "id": "h0e1oR27HC76"
   },
   "source": [
    "Alrighty, looks like we've got a problem to solve.\n",
    "\n",
    "让我们看看如何构建一个 PyTorch 神经网络来将点分类为红色 (0) 或蓝色 (1)。\n",
    "\n",
    "> **Note:** 该数据集通常被认为是机器学习中的**玩具问题**（用于尝试和测试事物的问题）。\n",
    "> \n",
    "> 但它代表了分类的主要关键，你有某种数据表示为数值，你想建立一个能够对其进行分类的模型，在我们的例子中，将它分成红点或蓝点。"
   ]
  },
  {
   "cell_type": "markdown",
   "metadata": {
    "id": "Ny6_J7F4HC76"
   },
   "source": [
    "深度学习中最常见的错误之一是形状错误。\n",
    "\n",
    "张量和张量运算的形状不匹配会导致模型出错。\n",
    "\n",
    "在整个课程中，我们会看到很多这样的东西。\n",
    "\n",
    "并且没有万无一失的方法来确保它们不会发生，它们会发生。\n",
    "\n",
    "相反，您可以做的是不断熟悉您正在使用的数据的形状。\n",
    "\n",
    "我喜欢将其称为输入和输出形状。\n",
    "\n",
    "问你自己：\n",
    "\n",
    "“我的输入是什么形状，我的输出是什么形状？”\n",
    "\n",
    "让我们来了解一下。"
   ]
  },
  {
   "cell_type": "code",
   "execution_count": 6,
   "metadata": {
    "ExecuteTime": {
     "end_time": "2022-09-12T01:56:09.774137Z",
     "start_time": "2022-09-12T01:56:09.768173Z"
    },
    "colab": {
     "base_uri": "https://localhost:8080/"
    },
    "id": "r0h--vKdHC77",
    "outputId": "16e65bb5-83e1-49c7-af5e-90ecede4eeae"
   },
   "outputs": [
    {
     "data": {
      "text/plain": [
       "((1000, 2), (1000,))"
      ]
     },
     "execution_count": 6,
     "metadata": {},
     "output_type": "execute_result"
    }
   ],
   "source": [
    "# Check the shapes of our features and labels\n",
    "X.shape, y.shape"
   ]
  },
  {
   "cell_type": "markdown",
   "metadata": {
    "id": "PW7zolShbfDg"
   },
   "source": [
    "看起来第一维是匹配的。\n",
    "\n",
    "There's 1000 `X` and 1000 `y`. \n",
    "\n",
    "但是`X`的第二维呢 ?\n",
    "\n",
    "查看单个样本（特征和标签）的值和形状，将帮助您了解您对模型的期望输入和输出形状。"
   ]
  },
  {
   "cell_type": "code",
   "execution_count": 7,
   "metadata": {
    "ExecuteTime": {
     "end_time": "2022-09-12T01:57:24.060729Z",
     "start_time": "2022-09-12T01:57:24.055747Z"
    },
    "colab": {
     "base_uri": "https://localhost:8080/"
    },
    "id": "k-L5zobVHC78",
    "outputId": "b3a96ca8-45f1-47d1-a98b-c2a7be79c0d5"
   },
   "outputs": [
    {
     "name": "stdout",
     "output_type": "stream",
     "text": [
      "Values for one sample of X: [0.75424625 0.23148074] and the same for y: 1\n",
      "Shapes for one sample of X: (2,) and the same for y: ()\n"
     ]
    }
   ],
   "source": [
    "# View the first example of features and labels\n",
    "X_sample = X[0]\n",
    "y_sample = y[0]\n",
    "print(f\"Values for one sample of X: {X_sample} and the same for y: {y_sample}\")\n",
    "print(f\"Shapes for one sample of X: {X_sample.shape} and the same for y: {y_sample.shape}\")"
   ]
  },
  {
   "cell_type": "markdown",
   "metadata": {
    "id": "Vn692XaRaifl"
   },
   "source": [
    " `X`有2个特征 (vector)而 `y` 有一个 特征(scalar).\n",
    "\n",
    "两个输入对应一个输出。"
   ]
  },
  {
   "cell_type": "markdown",
   "metadata": {
    "id": "eLyDPN6ZR_ho"
   },
   "source": [
    "### 1.2 将数据转成 tensors 并切割为训练集和测试集\n",
    "\n",
    "我们已经研究了数据的输入和输出形状，现在让我们准备将其用于 建模。\n",
    "\n",
    "具体来说，我们需要：\n",
    "1. 将数据转成 tensors \n",
    "2. 切割为训练集和测试集"
   ]
  },
  {
   "cell_type": "code",
   "execution_count": 8,
   "metadata": {
    "ExecuteTime": {
     "end_time": "2022-09-12T02:00:07.095485Z",
     "start_time": "2022-09-12T01:59:51.656826Z"
    },
    "colab": {
     "base_uri": "https://localhost:8080/"
    },
    "id": "Z2gcR31aHC78",
    "outputId": "cd4e10c1-c358-4b74-81e0-bab7610197cc"
   },
   "outputs": [
    {
     "data": {
      "text/plain": [
       "(tensor([[ 0.7542,  0.2315],\n",
       "         [-0.7562,  0.1533],\n",
       "         [-0.8154,  0.1733],\n",
       "         [-0.3937,  0.6929],\n",
       "         [ 0.4422, -0.8967]]),\n",
       " tensor([1., 1., 1., 1., 0.]))"
      ]
     },
     "execution_count": 8,
     "metadata": {},
     "output_type": "execute_result"
    }
   ],
   "source": [
    "# Turn data into tensors\n",
    "# Otherwise this causes issues with computations later on\n",
    "import torch\n",
    "X = torch.from_numpy(X).type(torch.float)\n",
    "y = torch.from_numpy(y).type(torch.float)\n",
    "\n",
    "# View the first five samples\n",
    "X[:5], y[:5]"
   ]
  },
  {
   "cell_type": "markdown",
   "metadata": {
    "id": "r9XNJv8lfmRG"
   },
   "source": [
    "将数据转换为tensor格式后，分割成训练集和测试集。\n",
    "\n",
    "可以用Scikit-Learn的 [`train_test_split()`](https://scikit-learn.org/stable/modules/generated/sklearn.model_selection.train_test_split.html)\n",
    "分割数据集。\n",
    "\n",
    "设置`test_size=0.2` (80% training, 20% testing) ， `random_state=42` 。"
   ]
  },
  {
   "cell_type": "code",
   "execution_count": 9,
   "metadata": {
    "ExecuteTime": {
     "end_time": "2022-09-12T03:55:05.913637Z",
     "start_time": "2022-09-12T03:55:05.518005Z"
    },
    "colab": {
     "base_uri": "https://localhost:8080/"
    },
    "id": "DW6PU82BHC79",
    "outputId": "a2d3f3df-701e-44ef-a506-fd31d5443e90"
   },
   "outputs": [
    {
     "data": {
      "text/plain": [
       "(800, 200, 800, 200)"
      ]
     },
     "execution_count": 9,
     "metadata": {},
     "output_type": "execute_result"
    }
   ],
   "source": [
    "# Split data into train and test sets\n",
    "from sklearn.model_selection import train_test_split\n",
    "\n",
    "X_train, X_test, y_train, y_test = train_test_split(X, \n",
    "                                                    y, \n",
    "                                                    test_size=0.2, # 20% test, 80% train\n",
    "                                                    random_state=42) # make the random split reproducible\n",
    "\n",
    "len(X_train), len(X_test), len(y_train), len(y_test)"
   ]
  },
  {
   "cell_type": "markdown",
   "metadata": {
    "id": "t-wYDWy9gSRc"
   },
   "source": [
    "Nice! 我们有了 800 training samples 和 200 testing samples。"
   ]
  },
  {
   "cell_type": "markdown",
   "metadata": {
    "id": "iCyQ93VTHC79"
   },
   "source": [
    "## 2.构建模型\n",
    "\n",
    "\n",
    "步骤如下：\n",
    "\n",
    "1. 设置设备(device) (so our model can run on CPU or GPU if it's available).\n",
    "2. 构建模型（通过继承 `nn.Module`）.\n",
    "3. 定义loss 和 optimizer。\n",
    "4. 创建 training loop (this'll be in the next section).\n",
    "\n",
    "和上一节（01）的过程类似。\n",
    "\n",
    "只是需要对其进行一些调整来适应本节的任务。\n",
    "\n",
    "让我们导入 `torch.nn` 并设置device:"
   ]
  },
  {
   "cell_type": "code",
   "execution_count": 10,
   "metadata": {
    "ExecuteTime": {
     "end_time": "2022-09-12T03:58:21.549188Z",
     "start_time": "2022-09-12T03:58:21.404330Z"
    },
    "colab": {
     "base_uri": "https://localhost:8080/",
     "height": 36
    },
    "id": "2itMTezPRnVR",
    "outputId": "507bf4a3-b5ae-4943-aa21-4eb181b0d741"
   },
   "outputs": [
    {
     "data": {
      "text/plain": [
       "'cuda'"
      ]
     },
     "execution_count": 10,
     "metadata": {},
     "output_type": "execute_result"
    }
   ],
   "source": [
    "# Standard PyTorch imports\n",
    "import torch\n",
    "from torch import nn\n",
    "\n",
    "# Make device agnostic code\n",
    "device = \"cuda\" if torch.cuda.is_available() else \"cpu\"\n",
    "device"
   ]
  },
  {
   "cell_type": "markdown",
   "metadata": {
    "id": "p1Fil1v04nXr"
   },
   "source": [
    "接下来如何构建模型？\n",
    "\n",
    "模型应该接收X，输出y。\n",
    "\n",
    "也就是说, 给定`X` (features) ，模型应该预测出 `y` (label).\n",
    "\n",
    "这种具有特征和标签的设置称为**监督学习**。 因为你的数据告诉你的模型应该给什么输出一个特定的输入。\n",
    "\n",
    "你需要处理 `X` 和 `y`的形状。\n",
    "\n",
    "\n",
    "让我们通过下面步骤创建模型：\n",
    "1. 继承 `nn.Module` (almost all PyTorch models are subclasses of `nn.Module`).\n",
    "2. 在constructor中创建 2个 `nn.Linear` layers 来处理 `X` 和 `y`的形状。\n",
    "3. 定义 `forward()` 方法，实现计算过程。\n",
    "4. 实例化模型，并移动到 `device`上。"
   ]
  },
  {
   "cell_type": "code",
   "execution_count": 11,
   "metadata": {
    "ExecuteTime": {
     "end_time": "2022-09-12T04:02:40.399716Z",
     "start_time": "2022-09-12T04:02:39.355985Z"
    },
    "colab": {
     "base_uri": "https://localhost:8080/"
    },
    "id": "C_EsAE3VHC7-",
    "outputId": "d9c976ea-e23f-4993-c847-a15b0bf7b0b5"
   },
   "outputs": [
    {
     "data": {
      "text/plain": [
       "CircleModelV0(\n",
       "  (layer_1): Linear(in_features=2, out_features=5, bias=True)\n",
       "  (layer_2): Linear(in_features=5, out_features=1, bias=True)\n",
       ")"
      ]
     },
     "execution_count": 11,
     "metadata": {},
     "output_type": "execute_result"
    }
   ],
   "source": [
    "# 1. subclasses nn.Module\n",
    "class CircleModelV0(nn.Module):\n",
    "    def __init__(self):\n",
    "        super().__init__()\n",
    "        # 2. Create 2 nn.Linear layers capable of handling X and y input and output shapes\n",
    "        self.layer_1 = nn.Linear(in_features=2, out_features=5) # takes in 2 features (X), produces 5 features\n",
    "        self.layer_2 = nn.Linear(in_features=5, out_features=1) # takes in 5 features, produces 1 feature (y)\n",
    "    \n",
    "    # 3. Define a forward method containing the forward pass computation\n",
    "    def forward(self, x):\n",
    "        # Return the output of layer_2, a single feature, the same shape as y\n",
    "        return self.layer_2(self.layer_1(x)) # computation goes through layer_1 first then the output of layer_1 goes through layer_2\n",
    "\n",
    "# 4. Create an instance of the model and send it to target device\n",
    "model_0 = CircleModelV0().to(device)\n",
    "model_0"
   ]
  },
  {
   "cell_type": "markdown",
   "metadata": {
    "id": "TtdkMniZ7KyK"
   },
   "source": [
    "\n",
    "\n",
    "和前面一节最大的区别是 `self.layer_1` 和 `self.layer_2`。\n",
    "\n",
    "`self.layer_1` 接收2个输入特征`in_features=2` 输出5个特征`out_features=5`。\n",
    "\n",
    "称为有 5个 **hidden units隐藏单元** or **neurons神经元**.\n",
    "\n",
    "该层将输入数据从具有 2 个特征变为 5 个特征。\n",
    "\n",
    "为什么这么做？\n",
    "\n",
    "这允许模型从 5 个数字而不是 2 个数字中学习模式，*可能*导致更好的输出。\n",
    "\n",
    "我说可能是因为有时它不起作用。\n",
    "\n",
    "您可以在神经网络层中使用的隐藏单元的数量是**超参数**（您可以自己设置的值），并且您不必使用固定值。\n",
    "\n",
    "一般来说，越多越好，但也可能会过多。 您选择的数量取决于您使用的模型类型和数据集。\n",
    "\n",
    "由于我们的数据集小而简单，我们将保持较小的隐藏单元。\n",
    "\n",
    "隐藏单元的唯一规则是下一层(`self.layer_2`) 的输入特征(`in_features`) 和之前层的输出特征（`out_features`）一致。\n",
    "\n",
    "因此 `self.layer_2`的 `in_features=5`, 接收来自`self.layer_1`的`out_features=5`, 并将其变为`out_features=1` (与`y`的形状一致)。\n",
    "\n",
    "![A visual example of what a classification neural network with linear activation looks like on the tensorflow playground](https://raw.githubusercontent.com/mrdbourke/pytorch-deep-learning/main/images/02-tensorflow-playground-linear-activation.png)\n",
    "*A visual example of what a similar classificiation neural network to the one we've just built looks like. Try create one of your own on the [TensorFlow Playground website](https://playground.tensorflow.org/).*\n",
    "\n",
    "上述操作也可以用 [`nn.Sequential`](https://pytorch.org/docs/stable/generated/torch.nn.Sequential.html)实现。\n",
    "\n",
    "`nn.Sequential` 按照它们出现的顺序通过层执行输入数据的前向传递计算。"
   ]
  },
  {
   "cell_type": "code",
   "execution_count": 13,
   "metadata": {
    "ExecuteTime": {
     "end_time": "2022-09-12T04:09:30.315912Z",
     "start_time": "2022-09-12T04:09:30.307452Z"
    },
    "colab": {
     "base_uri": "https://localhost:8080/"
    },
    "id": "H7I8GyLjHC7_",
    "outputId": "def65504-863a-4361-816e-909dbfa4d624"
   },
   "outputs": [
    {
     "data": {
      "text/plain": [
       "Sequential(\n",
       "  (0): Linear(in_features=2, out_features=5, bias=True)\n",
       "  (1): Linear(in_features=5, out_features=1, bias=True)\n",
       ")"
      ]
     },
     "execution_count": 13,
     "metadata": {},
     "output_type": "execute_result"
    }
   ],
   "source": [
    "# Replicate CircleModelV0 with nn.Sequential\n",
    "model_0 = nn.Sequential(\n",
    "    nn.Linear(in_features=2, out_features=5),\n",
    "    nn.Linear(in_features=5, out_features=1)\n",
    ").to(device)\n",
    "\n",
    "model_0"
   ]
  },
  {
   "cell_type": "markdown",
   "metadata": {
    "id": "MiRHq9mxFIf-"
   },
   "source": [
    "看起来比继承自 `nn.Module`简单多了, 为什么不直接用`nn.Sequential`?\n",
    "\n",
    "`nn.Sequential` 非常适合直接计算，但是，正如命名所说，它*总是*按顺序运行。\n",
    "所以如果你想要其它操作(而不只是单纯的顺序计算) ，你需要继承 `nn.Module` ，自定义自己的模型。\n",
    "\n",
    "让我们看看我们的模型如何处理数据："
   ]
  },
  {
   "cell_type": "code",
   "execution_count": 14,
   "metadata": {
    "ExecuteTime": {
     "end_time": "2022-09-12T04:11:29.341711Z",
     "start_time": "2022-09-12T04:11:10.819080Z"
    },
    "colab": {
     "base_uri": "https://localhost:8080/"
    },
    "id": "Tt339-_CC8sz",
    "outputId": "a4014167-4181-434e-ab75-905094229b3a"
   },
   "outputs": [
    {
     "name": "stdout",
     "output_type": "stream",
     "text": [
      "Length of predictions: 200, Shape: torch.Size([200, 1])\n",
      "Length of test samples: 200, Shape: torch.Size([200])\n",
      "\n",
      "First 10 predictions:\n",
      "tensor([[-0.0801],\n",
      "        [-0.0951],\n",
      "        [-0.0727],\n",
      "        [-0.0821],\n",
      "        [-0.1233],\n",
      "        [-0.1321],\n",
      "        [-0.1342],\n",
      "        [-0.1430],\n",
      "        [-0.0706],\n",
      "        [-0.0967]], device='cuda:0', grad_fn=<SliceBackward0>)\n",
      "\n",
      "First 10 test labels:\n",
      "tensor([1., 0., 1., 0., 1., 1., 0., 0., 1., 0.])\n"
     ]
    }
   ],
   "source": [
    "# Make predictions with the model\n",
    "untrained_preds = model_0(X_test.to(device))\n",
    "print(f\"Length of predictions: {len(untrained_preds)}, Shape: {untrained_preds.shape}\")\n",
    "print(f\"Length of test samples: {len(y_test)}, Shape: {y_test.shape}\")\n",
    "print(f\"\\nFirst 10 predictions:\\n{untrained_preds[:10]}\")\n",
    "print(f\"\\nFirst 10 test labels:\\n{y_test[:10]}\")"
   ]
  },
  {
   "cell_type": "markdown",
   "metadata": {
    "id": "q7v8TVnqGMZh"
   },
   "source": [
    "嗯，似乎预测的数量与测试标签的数量相同，但预测看起来与测试标签的形式或形状不同。\n",
    "\n",
    "我们有几个步骤可以解决这个问题，我们稍后会看到。"
   ]
  },
  {
   "cell_type": "markdown",
   "metadata": {
    "id": "8aoQn39pHC7_"
   },
   "source": [
    "### 2.1 设置 loss function 和 optimizer\n",
    "\n",
    "在上一个我们设置了loss(也称为标准或成本函数) 和 optimizer。\n",
    "\n",
    "不同的问题需要不同的loss。\n",
    "\n",
    "例如，回归问题(predicting a number)可能用MAE loss.\n",
    "\n",
    "二分类问题 (like ours),可能用 [binary cross entropy](https://towardsdatascience.com/understanding-binary-cross-entropy-log-loss-a-visual-explanation-a3ac6025181a)。\n",
    "\n",
    "而优化器则是通用的。\n",
    "\n",
    "例如， the stochastic gradient descent optimizer (SGD, `torch.optim.SGD()`) 可用于大部分问题，Adam optimizer (`torch.optim.Adam()`)也是。\n",
    "\n",
    "\n",
    "| Loss function/Optimizer | Problem type | PyTorch Code |\n",
    "| ----- | ----- | ----- |\n",
    "| Stochastic Gradient Descent (SGD) optimizer | Classification, regression, many others. | [`torch.optim.SGD()`](https://pytorch.org/docs/stable/generated/torch.optim.SGD.html) |\n",
    "| Adam Optimizer | Classification, regression, many others. | [`torch.optim.Adam()`](https://pytorch.org/docs/stable/generated/torch.optim.Adam.html) |\n",
    "| Binary cross entropy loss | Binary classification | [`torch.nn.BCELossWithLogits`](https://pytorch.org/docs/stable/generated/torch.nn.BCEWithLogitsLoss.html) or [`torch.nn.BCELoss`](https://pytorch.org/docs/stable/generated/torch.nn.BCELoss.html) |\n",
    "| Cross entropy loss | Mutli-class classification | [`torch.nn.CrossEntropyLoss`](https://pytorch.org/docs/stable/generated/torch.nn.CrossEntropyLoss.html) |\n",
    "| Mean absolute error (MAE) or L1 Loss | Regression | [`torch.nn.L1Loss`](https://pytorch.org/docs/stable/generated/torch.nn.L1Loss.html) | \n",
    "| Mean squared error (MSE) or L2 Loss | Regression | [`torch.nn.MSELoss`](https://pytorch.org/docs/stable/generated/torch.nn.MSELoss.html#torch.nn.MSELoss) |  \n",
    "\n",
    "*Table of various loss functions and optimizers, there are more but these some common ones you'll see.*\n",
    "\n",
    "由于这节是一个binary classification problem（二分类问题），可以用binary cross entropy loss function（二元交叉熵损失函数）。\n",
    "\n",
    "> **Note:** Recall a **loss function** is what measures how *wrong* your model predictions are, the higher the loss, the worse your model.\n",
    ">\n",
    "> Also, PyTorch documentation often refers to loss functions as \"loss criterion\" or \"criterion\", these are all different ways of describing the same thing.\n",
    "\n",
    " binary cross entropy 在PyTorch中有两种实现：\n",
    "1. [`torch.nn.BCELoss()`](https://pytorch.org/docs/stable/generated/torch.nn.BCELoss.html) - Creates a loss function that measures the binary cross entropy between the target (label) and input (features).\n",
    "2. [`torch.nn.BCEWithLogitsLoss()`](https://pytorch.org/docs/stable/generated/torch.nn.BCEWithLogitsLoss.html) - This is the same as above except it has a sigmoid layer ([`nn.Sigmoid`](https://pytorch.org/docs/stable/generated/torch.nn.Sigmoid.html)) built-in (we'll see what this means soon).\n",
    "\n",
    "我们该用哪个? \n",
    "\n",
    "[documentation for `torch.nn.BCEWithLogitsLoss()`](https://pytorch.org/docs/stable/generated/torch.nn.BCEWithLogitsLoss.html) 称其比 在`nn.Sigmoid` layer后用`torch.nn.BCELoss()`数值上更稳定. \n",
    "\n",
    "所以，通常选择实现2. 但是，对于高级用法，您可能希望将 `nn.Sigmoid` 和 `torch.nn.BCELoss()` 的组合分开，但这超出了本节的范围。\n",
    "\n",
    "\n",
    "optimizer使用 `torch.optim.SGD()` ，学习率设置为 0.1。\n",
    "\n",
    "> **Note:** There's a [discussion on the PyTorch forums about the use of `nn.BCELoss` vs. `nn.BCEWithLogitsLoss`](https://discuss.pytorch.org/t/bceloss-vs-bcewithlogitsloss/33586/4). It can be confusing at first but as with many things, it becomes easier with practice."
   ]
  },
  {
   "cell_type": "code",
   "execution_count": 15,
   "metadata": {
    "ExecuteTime": {
     "end_time": "2022-09-12T04:25:49.902631Z",
     "start_time": "2022-09-12T04:25:49.898601Z"
    },
    "id": "DjpQsdOZHC7_"
   },
   "outputs": [],
   "source": [
    "# Create a loss function\n",
    "# loss_fn = nn.BCELoss() # BCELoss = no sigmoid built-in\n",
    "loss_fn = nn.BCEWithLogitsLoss() # BCEWithLogitsLoss = sigmoid built-in\n",
    "\n",
    "# Create an optimizer\n",
    "optimizer = torch.optim.SGD(params=model_0.parameters(), \n",
    "                            lr=0.1)"
   ]
  },
  {
   "cell_type": "markdown",
   "metadata": {
    "id": "RKmi3fp9wYnV"
   },
   "source": [
    "现在让我们也创建一个**评估指标**。\n",
    "\n",
    "评估指标可用于提供有关模型运行方式的另一种观点。\n",
    "\n",
    "如果损失函数衡量模型的*错误*程度，我喜欢将评估指标视为衡量模型的*正确程度。\n",
    "\n",
    "当然，您可以争辩说这两者都在做同样的事情，但评估指标提供了不同的视角。\n",
    "\n",
    "毕竟，在评估您的模型时，最好从多个角度看待事物。\n",
    "\n",
    "有几个评估指标可用于分类问题，但让我们从 **accuracy准确率** 开始。\n",
    "\n",
    "准确性可以通过将正确预测的总数除以预测的总数来衡量。\n",
    "\n",
    "例如，一个模型在 100 个中做出 99 个正确的预测，其准确率将达到 99%。\n",
    "\n",
    "让我们编写一个函数来做到这一点。\n"
   ]
  },
  {
   "cell_type": "code",
   "execution_count": 16,
   "metadata": {
    "ExecuteTime": {
     "end_time": "2022-09-12T04:26:43.089364Z",
     "start_time": "2022-09-12T04:26:43.085329Z"
    },
    "id": "RcaZQR0mHC7_"
   },
   "outputs": [],
   "source": [
    "# Calculate accuracy (a classification metric)\n",
    "def accuracy_fn(y_true, y_pred):\n",
    "    correct = torch.eq(y_true, y_pred).sum().item() # torch.eq() calculates where two tensors are equal\n",
    "    acc = (correct / len(y_pred)) * 100 \n",
    "    return acc"
   ]
  },
  {
   "cell_type": "markdown",
   "metadata": {
    "id": "OuplloDPxviL"
   },
   "source": [
    "Excellent! "
   ]
  },
  {
   "cell_type": "markdown",
   "metadata": {
    "id": "4UpJKZ8PHC8A"
   },
   "source": [
    "## 3. Train model\n",
    "\n",
    "\n",
    "还记得train循环的步骤吗？\n",
    "\n",
    "如果不记得，复习一下：\n",
    "\n",
    "<details>\n",
    "    <summary>PyTorch training loop steps</summary>\n",
    "    <ol>\n",
    "        <li><b>Forward pass</b> - The model goes through all of the training data once, performing its\n",
    "            <code>forward()</code> function\n",
    "            calculations (<code>model(x_train)</code>).\n",
    "        </li>\n",
    "        <li><b>Calculate the loss</b> - The model's outputs (predictions) are compared to the ground truth and evaluated\n",
    "            to see how\n",
    "            wrong they are (<code>loss = loss_fn(y_pred, y_train</code>).</li>\n",
    "        <li><b>Zero gradients</b> - The optimizers gradients are set to zero (they are accumulated by default) so they\n",
    "            can be\n",
    "            recalculated for the specific training step (<code>optimizer.zero_grad()</code>).</li>\n",
    "        <li><b>Perform backpropagation on the loss</b> - Computes the gradient of the loss with respect for every model\n",
    "            parameter to\n",
    "            be updated (each parameter\n",
    "            with <code>requires_grad=True</code>). This is known as <b>backpropagation</b>, hence \"backwards\"\n",
    "            (<code>loss.backward()</code>).</li>\n",
    "        <li><b>Step the optimizer (gradient descent)</b> - Update the parameters with <code>requires_grad=True</code>\n",
    "            with respect to the loss\n",
    "            gradients in order to improve them (<code>optimizer.step()</code>).</li>\n",
    "    </ol>\n",
    "</details>\n",
    "\n"
   ]
  },
  {
   "cell_type": "markdown",
   "metadata": {
    "id": "NMeDqPpsnst6"
   },
   "source": [
    "### 3.1 从原始输出到预测标签 (logits -> prediction probabilities -> prediction labels)\n",
    "\n",
    "训练前，我们看看模型的输出。\n"
   ]
  },
  {
   "cell_type": "code",
   "execution_count": 17,
   "metadata": {
    "ExecuteTime": {
     "end_time": "2022-09-12T04:29:00.314137Z",
     "start_time": "2022-09-12T04:29:00.304711Z"
    },
    "colab": {
     "base_uri": "https://localhost:8080/"
    },
    "id": "e5stsbDl0zKl",
    "outputId": "829a0842-0a37-455a-b058-3e547200f836"
   },
   "outputs": [
    {
     "data": {
      "text/plain": [
       "tensor([[-0.0801],\n",
       "        [-0.0951],\n",
       "        [-0.0727],\n",
       "        [-0.0821],\n",
       "        [-0.1233]], device='cuda:0', grad_fn=<SliceBackward0>)"
      ]
     },
     "execution_count": 17,
     "metadata": {},
     "output_type": "execute_result"
    }
   ],
   "source": [
    "# View the frist 5 outputs of the forward pass on the test data\n",
    "y_logits = model_0(X_test.to(device))[:5]\n",
    "y_logits"
   ]
  },
  {
   "cell_type": "markdown",
   "metadata": {
    "id": "b1sNl8D8fWXm"
   },
   "source": [
    "它们是什么？\n",
    "\n",
    " `forward()` 的输出。\n",
    "\n",
    " `nn.Linear()`，内部计算过程为：\n",
    "\n",
    "$$\n",
    "\\mathbf{y} = x \\cdot \\mathbf{Weights}^T  + \\mathbf{bias}\n",
    "$$\n",
    "\n",
    "*原始输出* (unmodified) ($\\mathbf{y}$) , 我们模型的原始输出通常被称为 [**logits**](https://datascience.stackexchange.com/a/31045).\n",
    "\n",
    "这就是我们的模型在接收输入数据（方程中的 $x$ 或代码中的 `X_test`）时输出的内容，logits。\n",
    "然而，这些数字很难解释。\n",
    "\n",
    "我们想要一些与我们的标签相当的数字。\n",
    "\n",
    "要将我们模型的原始输出（logits）转换成这样的形式，我们可以使用 [sigmoid activation function](https://pytorch.org/docs/stable/generated/torch.sigmoid.html)."
   ]
  },
  {
   "cell_type": "code",
   "execution_count": 18,
   "metadata": {
    "ExecuteTime": {
     "end_time": "2022-09-12T04:32:28.006414Z",
     "start_time": "2022-09-12T04:32:27.928554Z"
    },
    "colab": {
     "base_uri": "https://localhost:8080/"
    },
    "id": "QGC7UmBi0s6E",
    "outputId": "3564ee3b-e34f-40a3-a40a-b9c9b948da04"
   },
   "outputs": [
    {
     "data": {
      "text/plain": [
       "tensor([[0.4800],\n",
       "        [0.4762],\n",
       "        [0.4818],\n",
       "        [0.4795],\n",
       "        [0.4692]], device='cuda:0', grad_fn=<SigmoidBackward0>)"
      ]
     },
     "execution_count": 18,
     "metadata": {},
     "output_type": "execute_result"
    }
   ],
   "source": [
    "# Use sigmoid on model logits\n",
    "y_pred_probs = torch.sigmoid(y_logits)\n",
    "y_pred_probs"
   ]
  },
  {
   "cell_type": "markdown",
   "metadata": {
    "id": "HxmWz_GVjZoB"
   },
   "source": [
    "好的，现在输出似乎具有某种一致性（即使它们仍然是随机的）。\n",
    "\n",
    "它们现在采用 **预测概率** 的形式（我通常将它们称为 `y_pred_probs`），换句话说，这些值现在是模型认为数据点属于一类或另一类的程度。\n",
    "\n",
    "在我们的例子中，因为我们正在处理二进制分类，所以我们的理想输出是 0 或 1。\n",
    "\n",
    "所以这些值可以被视为一个决策边界。\n",
    "\n",
    "越接近 0，模型越认为样本属于 0 类，越接近 1，模型越认为样本属于 1 类。\n",
    "\n",
    "具体来说：\n",
    "* If `y_pred_probs` >= 0.5, `y=1` (class 1)\n",
    "* If `y_pred_probs` < 0.5, `y=0` (class 0)\n",
    "\n",
    "为了在预测标签中转换我们的预测概率，我们可以对 sigmoid 激活函数的输出进行四舍五入。"
   ]
  },
  {
   "cell_type": "code",
   "execution_count": 19,
   "metadata": {
    "ExecuteTime": {
     "end_time": "2022-09-12T04:34:14.972877Z",
     "start_time": "2022-09-12T04:34:14.880035Z"
    },
    "colab": {
     "base_uri": "https://localhost:8080/"
    },
    "id": "naZxlTTwlMwX",
    "outputId": "6134e47d-bbb2-46c3-e2ec-b4f42d517e39"
   },
   "outputs": [
    {
     "name": "stdout",
     "output_type": "stream",
     "text": [
      "tensor([True, True, True, True, True], device='cuda:0')\n"
     ]
    },
    {
     "data": {
      "text/plain": [
       "tensor([0., 0., 0., 0., 0.], device='cuda:0', grad_fn=<SqueezeBackward0>)"
      ]
     },
     "execution_count": 19,
     "metadata": {},
     "output_type": "execute_result"
    }
   ],
   "source": [
    "# Find the predicted labels (round the prediction probabilities)\n",
    "y_preds = torch.round(y_pred_probs)\n",
    "\n",
    "# In full\n",
    "y_pred_labels = torch.round(torch.sigmoid(model_0(X_test.to(device))[:5]))\n",
    "\n",
    "# Check for equality\n",
    "print(torch.eq(y_preds.squeeze(), y_pred_labels.squeeze()))\n",
    "\n",
    "# Get rid of extra dimension\n",
    "y_preds.squeeze()"
   ]
  },
  {
   "cell_type": "markdown",
   "metadata": {
    "id": "5cMsgFWWmPLU"
   },
   "source": [
    "Excellent! Now it looks like our model's predictions are in the same form as our truth labels (`y_test`)."
   ]
  },
  {
   "cell_type": "code",
   "execution_count": 19,
   "metadata": {
    "colab": {
     "base_uri": "https://localhost:8080/"
    },
    "id": "MaQ0CN4ZmU1W",
    "outputId": "6b1cd7b4-f1d0-49b5-a8c3-338cf75c6cb0"
   },
   "outputs": [
    {
     "data": {
      "text/plain": [
       "tensor([1., 0., 1., 0., 1.])"
      ]
     },
     "execution_count": 19,
     "metadata": {},
     "output_type": "execute_result"
    }
   ],
   "source": [
    "y_test[:5]"
   ]
  },
  {
   "cell_type": "markdown",
   "metadata": {
    "id": "NXqUulG3maPH"
   },
   "source": [
    "这意味着我们将能够将我们的模型预测与测试标签进行比较，以了解它的进展情况。\n",
    "\n",
    "回顾一下，我们使用 sigmoid 激活函数将模型的原始输出（logits）转换为预测概率。\n",
    "\n",
    "然后通过四舍五入将预测概率转换为预测标签。\n",
    "\n",
    "> **注意：** sigmoid 激活函数的使用通常只用于二分类 logits。 对于多类分类，我们将研究使用 [softmax 激活函数](https://pytorch.org/docs/stable/generated/torch.nn.Softmax.html)（稍后会出现）。\n",
    ">\n",
    "> 并且在将模型的原始输出传递给 `nn.BCEWithLogitsLoss` 时不需要使用 sigmoid 激活函数（logits 损失中的“logits”是因为它适用于模型的原始 logits 输出），这是因为它具有 内置的 sigmoid 函数。"
   ]
  },
  {
   "cell_type": "markdown",
   "metadata": {
    "id": "Va7gg8yxn6Sg"
   },
   "source": [
    "### 3.2 Building a training and testing loop\n"
   ]
  },
  {
   "cell_type": "code",
   "execution_count": 20,
   "metadata": {
    "ExecuteTime": {
     "end_time": "2022-09-12T04:37:32.296898Z",
     "start_time": "2022-09-12T04:37:30.488086Z"
    },
    "colab": {
     "base_uri": "https://localhost:8080/"
    },
    "id": "DFABVGo2HC8A",
    "outputId": "e0341074-b603-41d5-a389-c401b4934d73"
   },
   "outputs": [
    {
     "name": "stdout",
     "output_type": "stream",
     "text": [
      "Epoch: 0 | Loss: 0.69458, Accuracy: 50.00% | Test loss: 0.69406, Test acc: 50.00%\n",
      "Epoch: 10 | Loss: 0.69364, Accuracy: 50.00% | Test loss: 0.69338, Test acc: 50.00%\n",
      "Epoch: 20 | Loss: 0.69334, Accuracy: 43.25% | Test loss: 0.69329, Test acc: 45.00%\n",
      "Epoch: 30 | Loss: 0.69322, Accuracy: 48.62% | Test loss: 0.69336, Test acc: 46.00%\n",
      "Epoch: 40 | Loss: 0.69316, Accuracy: 49.38% | Test loss: 0.69348, Test acc: 49.00%\n",
      "Epoch: 50 | Loss: 0.69313, Accuracy: 49.25% | Test loss: 0.69360, Test acc: 52.50%\n",
      "Epoch: 60 | Loss: 0.69310, Accuracy: 50.00% | Test loss: 0.69372, Test acc: 50.50%\n",
      "Epoch: 70 | Loss: 0.69308, Accuracy: 49.88% | Test loss: 0.69382, Test acc: 48.50%\n",
      "Epoch: 80 | Loss: 0.69306, Accuracy: 50.62% | Test loss: 0.69391, Test acc: 47.50%\n",
      "Epoch: 90 | Loss: 0.69305, Accuracy: 50.50% | Test loss: 0.69399, Test acc: 48.00%\n"
     ]
    }
   ],
   "source": [
    "torch.manual_seed(42)\n",
    "\n",
    "# Set the number of epochs\n",
    "epochs = 100\n",
    "\n",
    "# Put data to target device\n",
    "X_train, y_train = X_train.to(device), y_train.to(device)\n",
    "X_test, y_test = X_test.to(device), y_test.to(device)\n",
    "\n",
    "# Build training and evaluation loop\n",
    "for epoch in range(epochs):\n",
    "    ### Training\n",
    "    model_0.train()\n",
    "\n",
    "    # 1. Forward pass (model outputs raw logits)\n",
    "    y_logits = model_0(X_train).squeeze() # squeeze to remove extra `1` dimensions, this won't work unless model and data are on same device \n",
    "    y_pred = torch.round(torch.sigmoid(y_logits)) # turn logits -> pred probs -> pred labls\n",
    "  \n",
    "    # 2. Calculate loss/accuracy\n",
    "    # loss = loss_fn(torch.sigmoid(y_logits), # Using nn.BCELoss you need torch.sigmoid()\n",
    "    #                y_train) \n",
    "    loss = loss_fn(y_logits, # Using nn.BCEWithLogitsLoss works with raw logits\n",
    "                   y_train) \n",
    "    acc = accuracy_fn(y_true=y_train, \n",
    "                      y_pred=y_pred) \n",
    "\n",
    "    # 3. Optimizer zero grad\n",
    "    optimizer.zero_grad()\n",
    "\n",
    "    # 4. Loss backwards\n",
    "    loss.backward()\n",
    "\n",
    "    # 5. Optimizer step\n",
    "    optimizer.step()\n",
    "\n",
    "    ### Testing\n",
    "    model_0.eval()\n",
    "    with torch.inference_mode():\n",
    "        # 1. Forward pass\n",
    "        test_logits = model_0(X_test).squeeze() \n",
    "        test_pred = torch.round(torch.sigmoid(test_logits))\n",
    "        # 2. Caculate loss/accuracy\n",
    "        test_loss = loss_fn(test_logits,\n",
    "                            y_test)\n",
    "        test_acc = accuracy_fn(y_true=y_test,\n",
    "                               y_pred=test_pred)\n",
    "\n",
    "    # Print out what's happening every 10 epochs\n",
    "    if epoch % 10 == 0:\n",
    "        print(f\"Epoch: {epoch} | Loss: {loss:.5f}, Accuracy: {acc:.2f}% | Test loss: {test_loss:.5f}, Test acc: {test_acc:.2f}%\")"
   ]
  },
  {
   "cell_type": "markdown",
   "metadata": {
    "id": "It1Xy_f5perA"
   },
   "source": [
    "注意到模型发生了什么吗？\n",
    "它似乎没有变化！\n",
    "准确率是50%。\n",
    "\n",
    "而且因为我们正在处理一个平衡的二元分类问题，这意味着我们的模型的性能与随机猜测一样好（对于 0 类和 1 类的 500 个样本，模型每次预测 1 类将达到 50% 的准确率）。"
   ]
  },
  {
   "cell_type": "markdown",
   "metadata": {
    "id": "WCeyddo-HC8A"
   },
   "source": [
    "## 4. 预测和评估模型\n",
    "\n",
    "从指标看来，我们的模型是随机猜测的。\n",
    "\n",
    "我们如何进一步调查呢？\n",
    "\n",
    "我有一个主意。\n",
    "\n",
    "数据探索者的座右铭！\n",
    "\n",
    "\"Visualize, visualize, visualize!\"\n",
    "\n",
    "让我们绘制模型的预测、它试图预测的数据以及它为某事物是 0 类还是 1 类而创建的决策边界。\n",
    "\n",
    "为此，我们将编写一些代码以从 [Learn PyTorch for Deep Learning repo](https://github.com/mrdbourke/pytorch-deep-learning)。\n",
    "\n",
    "它包含一个名为“plot_decision_boundary()”的有用函数，它创建了一个 NumPy 网格网格，以直观地绘制我们的模型预测某些类的不同点。\n",
    "\n",
    "我们还将导入我们在笔记本 01 中编写的 `plot_predictions()` 以供以后使用。"
   ]
  },
  {
   "cell_type": "code",
   "execution_count": 22,
   "metadata": {
    "ExecuteTime": {
     "end_time": "2022-09-12T04:40:05.133297Z",
     "start_time": "2022-09-12T04:40:01.868518Z"
    },
    "colab": {
     "base_uri": "https://localhost:8080/"
    },
    "id": "QakJVGI8t2gB",
    "outputId": "4f63a8a3-5eae-49fb-e17e-df6c5721ab5a"
   },
   "outputs": [
    {
     "name": "stdout",
     "output_type": "stream",
     "text": [
      "Downloading helper_functions.py\n"
     ]
    }
   ],
   "source": [
    "import requests\n",
    "from pathlib import Path \n",
    "\n",
    "# Download helper functions from Learn PyTorch repo (if not already downloaded)\n",
    "if Path(\"helper_functions.py\").is_file():\n",
    "  print(\"helper_functions.py already exists, skipping download\")\n",
    "else:\n",
    "  print(\"Downloading helper_functions.py\")\n",
    "  request = requests.get(\"https://raw.githubusercontent.com/mrdbourke/pytorch-deep-learning/main/helper_functions.py\")\n",
    "  with open(\"helper_functions.py\", \"wb\") as f:\n",
    "    f.write(request.content)\n",
    "\n",
    "from helper_functions import plot_predictions, plot_decision_boundary"
   ]
  },
  {
   "cell_type": "code",
   "execution_count": 23,
   "metadata": {
    "ExecuteTime": {
     "end_time": "2022-09-12T04:40:10.717171Z",
     "start_time": "2022-09-12T04:40:08.692310Z"
    },
    "colab": {
     "base_uri": "https://localhost:8080/",
     "height": 390
    },
    "id": "bEbDUTKjHC8B",
    "outputId": "aa344fe8-0207-43df-f0e9-61b9302459a5"
   },
   "outputs": [
    {
     "data": {
      "image/png": "[encoded data removed]",
      "text/plain": [
       "<Figure size 864x432 with 2 Axes>"
      ]
     },
     "metadata": {
      "needs_background": "light"
     },
     "output_type": "display_data"
    }
   ],
   "source": [
    "# Plot decision boundaries for training and test sets\n",
    "plt.figure(figsize=(12, 6))\n",
    "plt.subplot(1, 2, 1)\n",
    "plt.title(\"Train\")\n",
    "plot_decision_boundary(model_0, X_train, y_train)\n",
    "plt.subplot(1, 2, 2)\n",
    "plt.title(\"Test\")\n",
    "plot_decision_boundary(model_0, X_test, y_test)"
   ]
  },
  {
   "cell_type": "markdown",
   "metadata": {
    "id": "aeHx9MbTvrJH"
   },
   "source": [
    "哇哦，看来我们找到了模型性能问题的原因。\n",
    "\n",
    "它目前正在尝试使用直线分割红点和蓝点......\n",
    "\n",
    "这就解释了 50% 的准确率。 由于我们的数据是圆形的，所以画一条直线最多只能从中间切开。\n",
    "\n",
    "在机器学习方面，我们的模型是**underfitting欠拟合**，这意味着它没有从数据中学习预测模式。\n",
    "\n",
    "我们该如何改进呢？"
   ]
  },
  {
   "cell_type": "markdown",
   "metadata": {
    "id": "6VivsLTmHC8B"
   },
   "source": [
    "## 5. 改进模型（从模型的角度）\n",
    "\n",
    "让我们尝试解决模型的欠拟合问题。\n",
    "\n",
    "专注于模型（而不是数据），有几种方法可以做到这一点。\n",
    "\n",
    "| Model improvement technique* | What does it do? |\n",
    "| ----- | ----- |\n",
    "| **Add more layers** | 每一层*潜在地*增加模型的学习能力，每一层都能够学习数据中的某种新模式，更多的层通常被称为使你的神经网络*更深*。 |\n",
    "| **Add more hidden units** | 与上述类似，每层更多的隐藏单元意味着模型学习能力的*潜在*增加，更多的隐藏单元通常被称为使您的神经网络*更宽*。|\n",
    "| **训练更久 (more epochs)** | 如果您的模型有更多机会查看数据，它可能会学到更多。|\n",
    "| **Changing the activation functions** | 有些数据不能只用直线拟合（就像我们看到的那样），使用非线性激活函数可以帮助解决这个问题（提示，提示）。|\n",
    "| **Change the learning rate** | 不太具体的模型，但仍然相关，优化器的学习率决定了模型每一步应该改变多少参数，太多，模型过度校正，太少，它学习不够。 |\n",
    "| **Change the loss function** | 同样，模型特定性较低但仍然很重要，不同的问题需要不同的损失函数。 例如，二元交叉熵损失函数不适用于多类分类问题。 |\n",
    "| **Use transfer learning** |从与您的问题域相似的问题域中获取预训练模型，并将其调整为您自己的问题。 我们涵盖了迁移学习在 [notebook 06](https://www.learnpytorch.io/06_pytorch_transfer_learning/). |\n",
    "\n",
    "> **Note:** *由于你可以手动修改这些参数，因此这些参数被称为**hyperparameters超参数**. \n",
    ">\n",
    "> 这也是机器学习一半艺术一半科学的用武之地，这里没有真正的方法可以知道你的项目的最佳价值组合是什么，最好遵循数据科学家的“实验、实验、实验”的座右铭。\n",
    "\n",
    "让我们看看如果我们在模型中添加一个额外的层会发生什么，以适应更长的时间（`epochs=1000` 而不是 `epochs=100`）并将隐藏单元的数量从 `5` 增加到 `10`。\n",
    "\n",
    "我们将遵循与上面相同的步骤，但更改了一些超参数。"
   ]
  },
  {
   "cell_type": "code",
   "execution_count": 24,
   "metadata": {
    "ExecuteTime": {
     "end_time": "2022-09-12T04:42:57.382446Z",
     "start_time": "2022-09-12T04:42:57.372406Z"
    },
    "colab": {
     "base_uri": "https://localhost:8080/"
    },
    "id": "j-GRUN9QHC8B",
    "outputId": "9174e74b-862a-4bca-9f17-c7176d22f81e"
   },
   "outputs": [
    {
     "data": {
      "text/plain": [
       "CircleModelV1(\n",
       "  (layer_1): Linear(in_features=2, out_features=10, bias=True)\n",
       "  (layer_2): Linear(in_features=10, out_features=10, bias=True)\n",
       "  (layer_3): Linear(in_features=10, out_features=1, bias=True)\n",
       ")"
      ]
     },
     "execution_count": 24,
     "metadata": {},
     "output_type": "execute_result"
    }
   ],
   "source": [
    "class CircleModelV1(nn.Module):\n",
    "    def __init__(self):\n",
    "        super().__init__()\n",
    "        self.layer_1 = nn.Linear(in_features=2, out_features=10)\n",
    "        self.layer_2 = nn.Linear(in_features=10, out_features=10) # extra layer\n",
    "        self.layer_3 = nn.Linear(in_features=10, out_features=1)\n",
    "        \n",
    "    def forward(self, x): # note: always make sure forward is spelt correctly!\n",
    "        # Creating a model like this is the same as below, though below\n",
    "        # generally benefits from speedups where possible.\n",
    "        # z = self.layer_1(x)\n",
    "        # z = self.layer_2(z)\n",
    "        # z = self.layer_3(z)\n",
    "        # return z\n",
    "        return self.layer_3(self.layer_2(self.layer_1(x)))\n",
    "\n",
    "model_1 = CircleModelV1().to(device)\n",
    "model_1"
   ]
  },
  {
   "cell_type": "markdown",
   "metadata": {
    "id": "ACkcim2k2G5R"
   },
   "source": [
    "Now we've got a model, we'll recreate a loss function and optimizer instance, using the same settings as before."
   ]
  },
  {
   "cell_type": "code",
   "execution_count": 27,
   "metadata": {
    "ExecuteTime": {
     "end_time": "2022-09-12T04:44:47.583393Z",
     "start_time": "2022-09-12T04:44:47.579367Z"
    },
    "id": "AXYwYPpSHC8B"
   },
   "outputs": [],
   "source": [
    "# loss_fn = nn.BCELoss() # Requires sigmoid on input\n",
    "loss_fn = nn.BCEWithLogitsLoss() # Does not require sigmoid on input\n",
    "optimizer = torch.optim.SGD(model_1.parameters(), lr=0.1)"
   ]
  },
  {
   "cell_type": "markdown",
   "metadata": {
    "id": "drHt2W7x1JEW"
   },
   "source": [
    "Beautiful, model, optimizer and loss function ready, let's make a training loop.\n",
    "\n",
    "This time we'll train for longer (`epochs=1000` vs `epochs=100`) and see if it improves our model. "
   ]
  },
  {
   "cell_type": "code",
   "execution_count": 26,
   "metadata": {
    "ExecuteTime": {
     "end_time": "2022-09-12T04:43:02.778399Z",
     "start_time": "2022-09-12T04:43:01.281394Z"
    },
    "colab": {
     "base_uri": "https://localhost:8080/"
    },
    "id": "aX0QGBozHC8C",
    "outputId": "b00e48e9-1075-4f6e-c0c3-e511451d3fe9"
   },
   "outputs": [
    {
     "name": "stdout",
     "output_type": "stream",
     "text": [
      "Epoch: 0 | Loss: 0.69396, Accuracy: 50.88% | Test loss: 0.69261, Test acc: 51.00%\n",
      "Epoch: 100 | Loss: 0.69305, Accuracy: 50.38% | Test loss: 0.69379, Test acc: 48.00%\n",
      "Epoch: 200 | Loss: 0.69299, Accuracy: 51.12% | Test loss: 0.69437, Test acc: 46.00%\n",
      "Epoch: 300 | Loss: 0.69298, Accuracy: 51.62% | Test loss: 0.69458, Test acc: 45.00%\n",
      "Epoch: 400 | Loss: 0.69298, Accuracy: 51.12% | Test loss: 0.69465, Test acc: 46.00%\n",
      "Epoch: 500 | Loss: 0.69298, Accuracy: 51.00% | Test loss: 0.69467, Test acc: 46.00%\n",
      "Epoch: 600 | Loss: 0.69298, Accuracy: 51.00% | Test loss: 0.69468, Test acc: 46.00%\n",
      "Epoch: 700 | Loss: 0.69298, Accuracy: 51.00% | Test loss: 0.69468, Test acc: 46.00%\n",
      "Epoch: 800 | Loss: 0.69298, Accuracy: 51.00% | Test loss: 0.69468, Test acc: 46.00%\n",
      "Epoch: 900 | Loss: 0.69298, Accuracy: 51.00% | Test loss: 0.69468, Test acc: 46.00%\n"
     ]
    }
   ],
   "source": [
    "torch.manual_seed(42)\n",
    "\n",
    "epochs = 1000 # Train for longer\n",
    "\n",
    "# Put data to target device\n",
    "X_train, y_train = X_train.to(device), y_train.to(device)\n",
    "X_test, y_test = X_test.to(device), y_test.to(device)\n",
    "\n",
    "for epoch in range(epochs):\n",
    "    ### Training\n",
    "    # 1. Forward pass\n",
    "    y_logits = model_1(X_train).squeeze()\n",
    "    y_pred = torch.round(torch.sigmoid(y_logits)) # logits -> predicition probabilities -> prediction labels\n",
    "\n",
    "    # 2. Calculate loss/accuracy\n",
    "    loss = loss_fn(y_logits, y_train)\n",
    "    acc = accuracy_fn(y_true=y_train, \n",
    "                      y_pred=y_pred)\n",
    "\n",
    "    # 3. Optimizer zero grad\n",
    "    optimizer.zero_grad()\n",
    "\n",
    "    # 4. Loss backwards\n",
    "    loss.backward()\n",
    "\n",
    "    # 5. Optimizer step\n",
    "    optimizer.step()\n",
    "\n",
    "    ### Testing\n",
    "    model_1.eval()\n",
    "    with torch.inference_mode():\n",
    "        # 1. Forward pass\n",
    "        test_logits = model_1(X_test).squeeze() \n",
    "        test_pred = torch.round(torch.sigmoid(test_logits))\n",
    "        # 2. Caculate loss/accuracy\n",
    "        test_loss = loss_fn(test_logits,\n",
    "                            y_test)\n",
    "        test_acc = accuracy_fn(y_true=y_test,\n",
    "                               y_pred=test_pred)\n",
    "\n",
    "    # Print out what's happening every 10 epochs\n",
    "    if epoch % 100 == 0:\n",
    "        print(f\"Epoch: {epoch} | Loss: {loss:.5f}, Accuracy: {acc:.2f}% | Test loss: {test_loss:.5f}, Test acc: {test_acc:.2f}%\")\n"
   ]
  },
  {
   "cell_type": "markdown",
   "metadata": {
    "id": "o0ca3sIV1WrZ"
   },
   "source": [
    "什么？ 我们的模型训练了更长的时间并增加了一层，但看起来它仍然没有比随机猜测更好地学习任何模式。\n",
    "\n",
    "让我们可视化。"
   ]
  },
  {
   "cell_type": "code",
   "execution_count": 28,
   "metadata": {
    "ExecuteTime": {
     "end_time": "2022-09-12T04:45:31.531981Z",
     "start_time": "2022-09-12T04:45:31.210363Z"
    },
    "colab": {
     "base_uri": "https://localhost:8080/",
     "height": 390
    },
    "id": "GUjJqRw7HC8C",
    "outputId": "12d163f9-b602-459e-f34b-54c58abf8d7d"
   },
   "outputs": [
    {
     "data": {
      "image/png": "[encoded data removed]",
      "text/plain": [
       "<Figure size 864x432 with 2 Axes>"
      ]
     },
     "metadata": {
      "needs_background": "light"
     },
     "output_type": "display_data"
    }
   ],
   "source": [
    "# Plot decision boundaries for training and test sets\n",
    "plt.figure(figsize=(12, 6))\n",
    "plt.subplot(1, 2, 1)\n",
    "plt.title(\"Train\")\n",
    "plot_decision_boundary(model_1, X_train, y_train)\n",
    "plt.subplot(1, 2, 2)\n",
    "plt.title(\"Test\")\n",
    "plot_decision_boundary(model_1, X_test, y_test)"
   ]
  },
  {
   "cell_type": "markdown",
   "metadata": {
    "id": "8UqtuZYwHC8C"
   },
   "source": [
    "嗯。\n",
    "\n",
    "我们的模型仍在红点和蓝点之间画一条直线。\n",
    "如果我们的模型正在绘制一条直线，它可以对线性数据进行建模吗？ 就像我们在 [notebook 01](https://www.learnpytorch.io/01_pytorch_workflow/)?"
   ]
  },
  {
   "cell_type": "markdown",
   "metadata": {
    "id": "Nam5esXj2Mj_"
   },
   "source": [
    "### 5.1 Preparing data to see if our model can model a straight line\n",
    "Let's create some linear data to see if our model's able to model it and we're not just using a model that can't learn anything."
   ]
  },
  {
   "cell_type": "code",
   "execution_count": 29,
   "metadata": {
    "ExecuteTime": {
     "end_time": "2022-09-12T04:46:22.182256Z",
     "start_time": "2022-09-12T04:46:22.058893Z"
    },
    "colab": {
     "base_uri": "https://localhost:8080/"
    },
    "id": "xLoEBQ6fHC8C",
    "outputId": "176a4674-3142-420c-bace-97cdbfbf473e"
   },
   "outputs": [
    {
     "name": "stdout",
     "output_type": "stream",
     "text": [
      "100\n"
     ]
    },
    {
     "data": {
      "text/plain": [
       "(tensor([[0.0000],\n",
       "         [0.0100],\n",
       "         [0.0200],\n",
       "         [0.0300],\n",
       "         [0.0400]]),\n",
       " tensor([[0.3000],\n",
       "         [0.3070],\n",
       "         [0.3140],\n",
       "         [0.3210],\n",
       "         [0.3280]]))"
      ]
     },
     "execution_count": 29,
     "metadata": {},
     "output_type": "execute_result"
    }
   ],
   "source": [
    "# Create some data (same as notebook 01)\n",
    "weight = 0.7\n",
    "bias = 0.3\n",
    "start = 0\n",
    "end = 1\n",
    "step = 0.01\n",
    "\n",
    "# Create data\n",
    "X_regression = torch.arange(start, end, step).unsqueeze(dim=1)\n",
    "y_regression = weight * X_regression + bias # linear regression formula\n",
    "\n",
    "# Check the data\n",
    "print(len(X_regression))\n",
    "X_regression[:5], y_regression[:5]"
   ]
  },
  {
   "cell_type": "markdown",
   "metadata": {
    "id": "wquTX_wX275-"
   },
   "source": [
    "Wonderful, now let's split our data into training and test sets."
   ]
  },
  {
   "cell_type": "code",
   "execution_count": 30,
   "metadata": {
    "ExecuteTime": {
     "end_time": "2022-09-12T04:46:24.915546Z",
     "start_time": "2022-09-12T04:46:24.910561Z"
    },
    "colab": {
     "base_uri": "https://localhost:8080/"
    },
    "id": "UIoO2k8yHC8D",
    "outputId": "2d9144d9-18d9-427a-a898-7a5c920cd9aa"
   },
   "outputs": [
    {
     "name": "stdout",
     "output_type": "stream",
     "text": [
      "80 80 20 20\n"
     ]
    }
   ],
   "source": [
    "# Create train and test splits\n",
    "train_split = int(0.8 * len(X_regression)) # 80% of data used for training set\n",
    "X_train_regression, y_train_regression = X_regression[:train_split], y_regression[:train_split]\n",
    "X_test_regression, y_test_regression = X_regression[train_split:], y_regression[train_split:]\n",
    "\n",
    "# Check the lengths of each split\n",
    "print(len(X_train_regression), \n",
    "    len(y_train_regression), \n",
    "    len(X_test_regression), \n",
    "    len(y_test_regression))"
   ]
  },
  {
   "cell_type": "markdown",
   "metadata": {
    "id": "sQtonoMn3s90"
   },
   "source": [
    "Beautiful, let's see how the data looks.\n",
    "\n",
    "To do so, we'll use the `plot_predictions()` function we created in notebook 01. \n",
    "\n",
    "It's contained within the [`helper_functions.py` script](https://github.com/mrdbourke/pytorch-deep-learning/blob/main/helper_functions.py) on the Learn PyTorch for Deep Learning repo which we downloaded above."
   ]
  },
  {
   "cell_type": "code",
   "execution_count": 31,
   "metadata": {
    "ExecuteTime": {
     "end_time": "2022-09-12T04:46:28.199968Z",
     "start_time": "2022-09-12T04:46:28.012203Z"
    },
    "colab": {
     "base_uri": "https://localhost:8080/",
     "height": 428
    },
    "id": "pcg5OvncHC8D",
    "outputId": "77b50411-c589-4d5f-e7ca-d03b1b9a68cc"
   },
   "outputs": [
    {
     "data": {
      "image/png": "[encoded data removed]",
      "text/plain": [
       "<Figure size 720x504 with 1 Axes>"
      ]
     },
     "metadata": {
      "needs_background": "light"
     },
     "output_type": "display_data"
    }
   ],
   "source": [
    "plot_predictions(train_data=X_train_regression,\n",
    "    train_labels=y_train_regression,\n",
    "    test_data=X_test_regression,\n",
    "    test_labels=y_test_regression\n",
    ");"
   ]
  },
  {
   "cell_type": "markdown",
   "metadata": {
    "id": "kZRflODP66kG"
   },
   "source": [
    "### 5.2 Adjusting `model_1` to fit a straight line\n",
    "\n",
    "Now we've got some data, let's recreate `model_1` but with a loss function suited to our regression data."
   ]
  },
  {
   "cell_type": "code",
   "execution_count": 32,
   "metadata": {
    "ExecuteTime": {
     "end_time": "2022-09-12T04:46:31.421428Z",
     "start_time": "2022-09-12T04:46:31.413963Z"
    },
    "colab": {
     "base_uri": "https://localhost:8080/"
    },
    "id": "rc13zblAHC8D",
    "outputId": "7bd16b1f-bd2e-486b-b963-9733aaa757be"
   },
   "outputs": [
    {
     "data": {
      "text/plain": [
       "Sequential(\n",
       "  (0): Linear(in_features=1, out_features=10, bias=True)\n",
       "  (1): Linear(in_features=10, out_features=10, bias=True)\n",
       "  (2): Linear(in_features=10, out_features=1, bias=True)\n",
       ")"
      ]
     },
     "execution_count": 32,
     "metadata": {},
     "output_type": "execute_result"
    }
   ],
   "source": [
    "# Same architecture as model_1 (but using nn.Sequential)\n",
    "model_2 = nn.Sequential(\n",
    "    nn.Linear(in_features=1, out_features=10),\n",
    "    nn.Linear(in_features=10, out_features=10),\n",
    "    nn.Linear(in_features=10, out_features=1)\n",
    ").to(device)\n",
    "\n",
    "model_2"
   ]
  },
  {
   "cell_type": "markdown",
   "metadata": {
    "id": "FOtBAv1E7OqX"
   },
   "source": [
    "We'll setup the loss function to be `nn.L1Loss()` (the same as mean absolute error) and the optimizer to be `torch.optim.SGD()`. "
   ]
  },
  {
   "cell_type": "code",
   "execution_count": 33,
   "metadata": {
    "ExecuteTime": {
     "end_time": "2022-09-12T04:46:33.983121Z",
     "start_time": "2022-09-12T04:46:33.979132Z"
    },
    "id": "f06fraapHC8E"
   },
   "outputs": [],
   "source": [
    "# Loss and optimizer\n",
    "loss_fn = nn.L1Loss()\n",
    "optimizer = torch.optim.SGD(model_2.parameters(), lr=0.1)"
   ]
  },
  {
   "cell_type": "markdown",
   "metadata": {
    "id": "lU7GfFLm7a21"
   },
   "source": [
    "Now let's train the model using the regular training loop steps for `epochs=1000` (just like `model_1`).\n",
    "\n",
    "> **Note:** We've been writing similar training loop code over and over again. I've made it that way on purpose though, to keep practicing. However, do you have ideas how we could functionize this? That would save a fair bit of coding in the future. Potentially there could be a function for training and a function for testing. "
   ]
  },
  {
   "cell_type": "code",
   "execution_count": 34,
   "metadata": {
    "ExecuteTime": {
     "end_time": "2022-09-12T04:46:38.323711Z",
     "start_time": "2022-09-12T04:46:37.011479Z"
    },
    "colab": {
     "base_uri": "https://localhost:8080/"
    },
    "id": "YTitEWgSHC8E",
    "outputId": "16da5efa-3c3b-494b-ef4e-e5244f4cf097"
   },
   "outputs": [
    {
     "name": "stdout",
     "output_type": "stream",
     "text": [
      "Epoch: 0 | Train loss: 0.75986, Test loss: 0.54143\n",
      "Epoch: 100 | Train loss: 0.09309, Test loss: 0.02901\n",
      "Epoch: 200 | Train loss: 0.07376, Test loss: 0.02850\n",
      "Epoch: 300 | Train loss: 0.06745, Test loss: 0.00615\n",
      "Epoch: 400 | Train loss: 0.06107, Test loss: 0.02004\n",
      "Epoch: 500 | Train loss: 0.05698, Test loss: 0.01061\n",
      "Epoch: 600 | Train loss: 0.04857, Test loss: 0.01326\n",
      "Epoch: 700 | Train loss: 0.06109, Test loss: 0.02127\n",
      "Epoch: 800 | Train loss: 0.05599, Test loss: 0.01426\n",
      "Epoch: 900 | Train loss: 0.05571, Test loss: 0.00603\n"
     ]
    }
   ],
   "source": [
    "# Train the model\n",
    "torch.manual_seed(42)\n",
    "\n",
    "# Set the number of epochs\n",
    "epochs = 1000\n",
    "\n",
    "# Put data to target device\n",
    "X_train_regression, y_train_regression = X_train_regression.to(device), y_train_regression.to(device)\n",
    "X_test_regression, y_test_regression = X_test_regression.to(device), y_test_regression.to(device)\n",
    "\n",
    "for epoch in range(epochs):\n",
    "    ### Training \n",
    "    # 1. Forward pass\n",
    "    y_pred = model_2(X_train_regression)\n",
    "    \n",
    "    # 2. Calculate loss (no accuracy since it's a regression problem, not classification)\n",
    "    loss = loss_fn(y_pred, y_train_regression)\n",
    "\n",
    "    # 3. Optimizer zero grad\n",
    "    optimizer.zero_grad()\n",
    "\n",
    "    # 4. Loss backwards\n",
    "    loss.backward()\n",
    "\n",
    "    # 5. Optimizer step\n",
    "    optimizer.step()\n",
    "\n",
    "    ### Testing\n",
    "    model_2.eval()\n",
    "    with torch.inference_mode():\n",
    "      # 1. Forward pass\n",
    "      test_pred = model_2(X_test_regression)\n",
    "      # 2. Calculate the loss \n",
    "      test_loss = loss_fn(test_pred, y_test_regression)\n",
    "\n",
    "    # Print out what's happening\n",
    "    if epoch % 100 == 0: \n",
    "        print(f\"Epoch: {epoch} | Train loss: {loss:.5f}, Test loss: {test_loss:.5f}\")"
   ]
  },
  {
   "cell_type": "markdown",
   "metadata": {
    "id": "IoyLsZW78m_6"
   },
   "source": [
    "Okay, unlike `model_1` on the classification data, it looks like `model_2`'s loss is actually going down.\n",
    "\n",
    "Let's plot its predictions to see if that's so.\n",
    "\n",
    "And remember, since our model and data are using the target `device`, and this device may be a GPU, however, our plotting function uses matplotlib and matplotlib can't handle data on the GPU.\n",
    "\n",
    "To handle that, we'll send all of our data to the CPU using [`.cpu()`](https://pytorch.org/docs/stable/generated/torch.Tensor.cpu.html) when we pass it to `plot_predictions()`."
   ]
  },
  {
   "cell_type": "code",
   "execution_count": 35,
   "metadata": {
    "ExecuteTime": {
     "end_time": "2022-09-12T04:46:45.205455Z",
     "start_time": "2022-09-12T04:46:45.039070Z"
    },
    "colab": {
     "base_uri": "https://localhost:8080/",
     "height": 428
    },
    "id": "AvltMCW_HC8E",
    "outputId": "5887db7d-128b-46f3-c978-c12af112d470"
   },
   "outputs": [
    {
     "data": {
      "image/png": "[encoded data removed]",
      "text/plain": [
       "<Figure size 720x504 with 1 Axes>"
      ]
     },
     "metadata": {
      "needs_background": "light"
     },
     "output_type": "display_data"
    }
   ],
   "source": [
    "# Turn on evaluation mode\n",
    "model_2.eval()\n",
    "\n",
    "# Make predictions (inference)\n",
    "with torch.inference_mode():\n",
    "    y_preds = model_2(X_test_regression)\n",
    "\n",
    "# Plot data and predictions with data on the CPU (matplotlib can't handle data on the GPU)\n",
    "# (try removing .cpu() from one of the below and see what happens)\n",
    "plot_predictions(train_data=X_train_regression.cpu(),\n",
    "                 train_labels=y_train_regression.cpu(),\n",
    "                 test_data=X_test_regression.cpu(),\n",
    "                 test_labels=y_test_regression.cpu(),\n",
    "                 predictions=y_preds.cpu());"
   ]
  },
  {
   "cell_type": "markdown",
   "metadata": {
    "id": "cZFiXR8B9wYx"
   },
   "source": [
    "好吧，看起来我们的模型比直线上的随机猜测要好得多。\n",
    "\n",
    "这是一件好事。\n",
    "\n",
    "这意味着我们的模型至少有*一些*的学习能力。\n",
    "> **注意：** 在构建深度学习模型时，一个有用的故障排除步骤是从尽可能小的开始，以查看模型在放大之前是否有效。\n",
    ">\n",
    "> 这可能意味着从一个简单的神经网络（层数不多，隐藏神经元数不多）和一个小数据集（就像我们制作的那个）开始，然后在其上进行**过度拟合**（使模型表现得太好） 在增加数据量或模型大小/设计以*减少*过度拟合之前的小例子。\n",
    "\n",
    "那会是什么？\n",
    "\n",
    "让我们来了解一下。"
   ]
  },
  {
   "cell_type": "markdown",
   "metadata": {
    "id": "j82n3OyWHC8E"
   },
   "source": [
    "## 6. 缺失的部分:非线性 \n",
    "我们已经看到我们的模型可以绘制直线（线性），这要归功于它的线性层。\n",
    "\n",
    "但是我们赋予它绘制非直线（非线性）线的能力怎么样？\n",
    "\n",
    "怎么做？\n",
    "\n",
    "让我们来了解一下。\n"
   ]
  },
  {
   "cell_type": "markdown",
   "metadata": {
    "id": "cmfOV8v6__17"
   },
   "source": [
    "### 6.1 Recreating non-linear data (red and blue circles)\n",
    "\n",
    "First, let's recreate the data to start off fresh. We'll use the same setup as before. "
   ]
  },
  {
   "cell_type": "code",
   "execution_count": 36,
   "metadata": {
    "ExecuteTime": {
     "end_time": "2022-09-12T04:47:59.977668Z",
     "start_time": "2022-09-12T04:47:59.871914Z"
    },
    "colab": {
     "base_uri": "https://localhost:8080/",
     "height": 265
    },
    "id": "owqilKGBHC8F",
    "outputId": "b8c1d692-6f3e-43ca-9323-98bd40e39a89"
   },
   "outputs": [
    {
     "data": {
      "image/png": "[encoded data removed]",
      "text/plain": [
       "<Figure size 432x288 with 1 Axes>"
      ]
     },
     "metadata": {
      "needs_background": "light"
     },
     "output_type": "display_data"
    }
   ],
   "source": [
    "# Make and plot data\n",
    "import matplotlib.pyplot as plt\n",
    "from sklearn.datasets import make_circles\n",
    "\n",
    "n_samples = 1000\n",
    "\n",
    "X, y = make_circles(n_samples=1000,\n",
    "    noise=0.03,\n",
    "    random_state=42,\n",
    ")\n",
    "\n",
    "plt.scatter(X[:, 0], X[:, 1], c=y, cmap=plt.cm.RdBu);"
   ]
  },
  {
   "cell_type": "markdown",
   "metadata": {
    "id": "D63mlmxR_pxt"
   },
   "source": [
    "Nice! Now let's split it into training and test sets using 80% of the data for training and 20% for testing."
   ]
  },
  {
   "cell_type": "code",
   "execution_count": 37,
   "metadata": {
    "ExecuteTime": {
     "end_time": "2022-09-12T04:48:03.531933Z",
     "start_time": "2022-09-12T04:48:03.523121Z"
    },
    "colab": {
     "base_uri": "https://localhost:8080/"
    },
    "id": "0UkH4cKLHC8F",
    "outputId": "5619ad2f-ad5d-476a-dcfd-9f8d48036899"
   },
   "outputs": [
    {
     "data": {
      "text/plain": [
       "(tensor([[ 0.6579, -0.4651],\n",
       "         [ 0.6319, -0.7347],\n",
       "         [-1.0086, -0.1240],\n",
       "         [-0.9666, -0.2256],\n",
       "         [-0.1666,  0.7994]]),\n",
       " tensor([1., 0., 0., 0., 1.]))"
      ]
     },
     "execution_count": 37,
     "metadata": {},
     "output_type": "execute_result"
    }
   ],
   "source": [
    "# Convert to tensors and split into train and test sets\n",
    "import torch\n",
    "from sklearn.model_selection import train_test_split\n",
    "\n",
    "# Turn data into tensors\n",
    "X = torch.from_numpy(X).type(torch.float)\n",
    "y = torch.from_numpy(y).type(torch.float)\n",
    "\n",
    "# Split into train and test sets\n",
    "X_train, X_test, y_train, y_test = train_test_split(X, \n",
    "                                                    y, \n",
    "                                                    test_size=0.2,\n",
    "                                                    random_state=42\n",
    ")\n",
    "\n",
    "X_train[:5], y_train[:5]"
   ]
  },
  {
   "cell_type": "markdown",
   "metadata": {
    "id": "wNm_OBgD_4tk"
   },
   "source": [
    "### 6.用非线性构建模型\n",
    "\n",
    "现在有趣的部分来了。\n",
    "\n",
    "你认为你可以用无限的直线（线性）和非直线（非线性）线绘制什么样的图案？\n",
    "\n",
    "我敢打赌你会很有创意。\n",
    "\n",
    "到目前为止，我们的神经网络只使用线性（直线）函数。\n",
    "\n",
    "但是我们一直在使用的数据是非线性的（圆圈）。\n",
    "\n",
    "当我们为我们的模型引入使用**非线性激活函数**的功能时，您认为会发生什么？\n",
    "\n",
    "好吧，走着瞧。\n",
    "\n",
    "PyTorch 有很多 [ready-made non-linear activation functions](https://pytorch.org/docs/stable/nn.html#non-linear-activations-weighted-sum-nonlinearity) 它们功能类似，但有区别。 \n",
    "\n",
    "最常用的是 [ReLU](https://en.wikipedia.org/wiki/Rectifier_(neural_networks) (rectified linear-unit, [`torch.nn.ReLU()`](https://pytorch.org/docs/stable/generated/torch.nn.ReLU.html)).\n",
    "\n",
    "与其谈论它，不如把它放在我们的神经网络中前向传播的隐藏层之间，看看会发生什么。"
   ]
  },
  {
   "cell_type": "code",
   "execution_count": 38,
   "metadata": {
    "ExecuteTime": {
     "end_time": "2022-09-12T04:49:39.207291Z",
     "start_time": "2022-09-12T04:49:39.199324Z"
    },
    "colab": {
     "base_uri": "https://localhost:8080/"
    },
    "id": "i_yG7AFHHC8F",
    "outputId": "00a69e38-369f-47fb-b729-fd4c7b5b47de"
   },
   "outputs": [
    {
     "name": "stdout",
     "output_type": "stream",
     "text": [
      "CircleModelV2(\n",
      "  (layer_1): Linear(in_features=2, out_features=10, bias=True)\n",
      "  (layer_2): Linear(in_features=10, out_features=10, bias=True)\n",
      "  (layer_3): Linear(in_features=10, out_features=1, bias=True)\n",
      "  (relu): ReLU()\n",
      ")\n"
     ]
    }
   ],
   "source": [
    "# Build model with non-linear activation function\n",
    "from torch import nn\n",
    "class CircleModelV2(nn.Module):\n",
    "    def __init__(self):\n",
    "        super().__init__()\n",
    "        self.layer_1 = nn.Linear(in_features=2, out_features=10)\n",
    "        self.layer_2 = nn.Linear(in_features=10, out_features=10)\n",
    "        self.layer_3 = nn.Linear(in_features=10, out_features=1)\n",
    "        self.relu = nn.ReLU() # <- add in ReLU activation function\n",
    "        # Can also put sigmoid in the model \n",
    "        # This would mean you don't need to use it on the predictions\n",
    "        # self.sigmoid = nn.Sigmoid()\n",
    "\n",
    "    def forward(self, x):\n",
    "      # Intersperse the ReLU activation function between layers\n",
    "       return self.layer_3(self.relu(self.layer_2(self.relu(self.layer_1(x)))))\n",
    "\n",
    "model_3 = CircleModelV2().to(device)\n",
    "print(model_3)"
   ]
  },
  {
   "cell_type": "markdown",
   "metadata": {
    "id": "1UASf5SWEPNJ"
   },
   "source": [
    "![a classification neural network on TensorFlow playground with ReLU activation](https://raw.githubusercontent.com/mrdbourke/pytorch-deep-learning/main/images/02-tensorflow-playground-relu-activation.png)\n",
    "*A visual example of what a similar classificiation neural network to the one we've just built (suing ReLU activation) looks like. Try create one of your own on the [TensorFlow Playground website](https://playground.tensorflow.org/).*\n",
    "\n",
    "> **Question:** *Where should I put the non-linear activation functions when constructing a neural network?*\n",
    ">\n",
    "> A rule of thumb is to put them in between hidden layers and just after the output layer, however, there is no set in stone option. As you learn more about neural networks and deep learning you'll find a bunch of different ways of putting things together. In the meantine, best to experiment, experiment, experiment.\n",
    "\n",
    "Now we've got a model ready to go, let's create a binary classification loss function as well as an optimizer."
   ]
  },
  {
   "cell_type": "code",
   "execution_count": 39,
   "metadata": {
    "ExecuteTime": {
     "end_time": "2022-09-12T04:50:03.150106Z",
     "start_time": "2022-09-12T04:50:03.146107Z"
    },
    "id": "uWNlx4lTHC8F"
   },
   "outputs": [],
   "source": [
    "# Setup loss and optimizer \n",
    "loss_fn = nn.BCEWithLogitsLoss()\n",
    "optimizer = torch.optim.SGD(model_3.parameters(), lr=0.1)"
   ]
  },
  {
   "cell_type": "markdown",
   "metadata": {
    "id": "NQL9GF5yFTGD"
   },
   "source": [
    "Wonderful! \n",
    "\n"
   ]
  },
  {
   "cell_type": "markdown",
   "metadata": {
    "id": "INnCmr2RMk8L"
   },
   "source": [
    "### 6.3 Training a model with non-linearity\n",
    "\n",
    "You know the drill, model, loss function, optimizer ready to go, let's create a training and testing loop."
   ]
  },
  {
   "cell_type": "code",
   "execution_count": 40,
   "metadata": {
    "ExecuteTime": {
     "end_time": "2022-09-12T04:50:07.913316Z",
     "start_time": "2022-09-12T04:50:06.218007Z"
    },
    "colab": {
     "base_uri": "https://localhost:8080/"
    },
    "id": "gTS8yTN_HC8F",
    "outputId": "df71bd5d-cd0d-4e39-f3e0-7fc90bfaaeb0"
   },
   "outputs": [
    {
     "name": "stdout",
     "output_type": "stream",
     "text": [
      "Epoch: 0 | Loss: 0.69295, Accuracy: 50.00% | Test Loss: 0.69319, Test Accuracy: 50.00%\n",
      "Epoch: 100 | Loss: 0.69115, Accuracy: 52.88% | Test Loss: 0.69102, Test Accuracy: 52.50%\n",
      "Epoch: 200 | Loss: 0.68977, Accuracy: 53.37% | Test Loss: 0.68940, Test Accuracy: 55.00%\n",
      "Epoch: 300 | Loss: 0.68795, Accuracy: 53.00% | Test Loss: 0.68723, Test Accuracy: 56.00%\n",
      "Epoch: 400 | Loss: 0.68517, Accuracy: 52.75% | Test Loss: 0.68411, Test Accuracy: 56.50%\n",
      "Epoch: 500 | Loss: 0.68102, Accuracy: 52.75% | Test Loss: 0.67941, Test Accuracy: 56.50%\n",
      "Epoch: 600 | Loss: 0.67515, Accuracy: 54.50% | Test Loss: 0.67285, Test Accuracy: 56.00%\n",
      "Epoch: 700 | Loss: 0.66659, Accuracy: 58.38% | Test Loss: 0.66322, Test Accuracy: 59.00%\n",
      "Epoch: 800 | Loss: 0.65160, Accuracy: 64.00% | Test Loss: 0.64757, Test Accuracy: 67.50%\n",
      "Epoch: 900 | Loss: 0.62362, Accuracy: 74.00% | Test Loss: 0.62145, Test Accuracy: 79.00%\n"
     ]
    }
   ],
   "source": [
    "# Fit the model\n",
    "torch.manual_seed(42)\n",
    "epochs = 1000\n",
    "\n",
    "# Put all data on target device\n",
    "X_train, y_train = X_train.to(device), y_train.to(device)\n",
    "X_test, y_test = X_test.to(device), y_test.to(device)\n",
    "\n",
    "for epoch in range(epochs):\n",
    "    # 1. Forward pass\n",
    "    y_logits = model_3(X_train).squeeze()\n",
    "    y_pred = torch.round(torch.sigmoid(y_logits)) # logits -> prediction probabilities -> prediction labels\n",
    "    \n",
    "    # 2. Calculate loss and accuracy\n",
    "    loss = loss_fn(y_logits, y_train) # BCEWithLogitsLoss calculates loss using logits\n",
    "    acc = accuracy_fn(y_true=y_train, \n",
    "                      y_pred=y_pred)\n",
    "    \n",
    "    # 3. Optimizer zero grad\n",
    "    optimizer.zero_grad()\n",
    "\n",
    "    # 4. Loss backward\n",
    "    loss.backward()\n",
    "\n",
    "    # 5. Optimizer step\n",
    "    optimizer.step()\n",
    "\n",
    "    ### Testing\n",
    "    model_3.eval()\n",
    "    with torch.inference_mode():\n",
    "      # 1. Forward pass\n",
    "      test_logits = model_3(X_test).squeeze()\n",
    "      test_pred = torch.round(torch.sigmoid(test_logits)) # logits -> prediction probabilities -> prediction labels\n",
    "      # 2. Calcuate loss and accuracy\n",
    "      test_loss = loss_fn(test_logits, y_test)\n",
    "      test_acc = accuracy_fn(y_true=y_test,\n",
    "                             y_pred=test_pred)\n",
    "\n",
    "    # Print out what's happening\n",
    "    if epoch % 100 == 0:\n",
    "        print(f\"Epoch: {epoch} | Loss: {loss:.5f}, Accuracy: {acc:.2f}% | Test Loss: {test_loss:.5f}, Test Accuracy: {test_acc:.2f}%\")"
   ]
  },
  {
   "cell_type": "markdown",
   "metadata": {
    "id": "x89XvV-EMqvB"
   },
   "source": [
    "Ho ho! That's looking far better!"
   ]
  },
  {
   "cell_type": "markdown",
   "metadata": {
    "id": "tfViHC1aM15t"
   },
   "source": [
    "### 6.4 Evaluating a model trained with non-linear activation functions\n",
    "\n",
    "Remember how our circle data is non-linear? Well, let's see how our models predictions look now the model's been trained with non-linear activation functions."
   ]
  },
  {
   "cell_type": "code",
   "execution_count": 41,
   "metadata": {
    "ExecuteTime": {
     "end_time": "2022-09-12T04:50:13.769759Z",
     "start_time": "2022-09-12T04:50:13.621775Z"
    },
    "colab": {
     "base_uri": "https://localhost:8080/"
    },
    "id": "wGHQiWT2HC8G",
    "outputId": "e95a412b-bef1-4d3d-b705-1eb75a55449e"
   },
   "outputs": [
    {
     "data": {
      "text/plain": [
       "(tensor([1., 0., 1., 0., 0., 1., 0., 0., 1., 0.], device='cuda:0'),\n",
       " tensor([1., 1., 1., 1., 0., 1., 1., 1., 1., 0.]))"
      ]
     },
     "execution_count": 41,
     "metadata": {},
     "output_type": "execute_result"
    }
   ],
   "source": [
    "# Make predictions\n",
    "model_3.eval()\n",
    "with torch.inference_mode():\n",
    "    y_preds = torch.round(torch.sigmoid(model_3(X_test))).squeeze()\n",
    "y_preds[:10], y[:10] # want preds in same format as truth labels"
   ]
  },
  {
   "cell_type": "code",
   "execution_count": 42,
   "metadata": {
    "ExecuteTime": {
     "end_time": "2022-09-12T04:50:16.245780Z",
     "start_time": "2022-09-12T04:50:15.934842Z"
    },
    "colab": {
     "base_uri": "https://localhost:8080/",
     "height": 390
    },
    "id": "gEeMinjyHC8G",
    "outputId": "3566e274-ef7a-4eb8-ef34-57b97e7781bc"
   },
   "outputs": [
    {
     "data": {
      "image/png": "[encoded data removed]",
      "text/plain": [
       "<Figure size 864x432 with 2 Axes>"
      ]
     },
     "metadata": {
      "needs_background": "light"
     },
     "output_type": "display_data"
    }
   ],
   "source": [
    "# Plot decision boundaries for training and test sets\n",
    "plt.figure(figsize=(12, 6))\n",
    "plt.subplot(1, 2, 1)\n",
    "plt.title(\"Train\")\n",
    "plot_decision_boundary(model_1, X_train, y_train) # model_1 = no non-linearity\n",
    "plt.subplot(1, 2, 2)\n",
    "plt.title(\"Test\")\n",
    "plot_decision_boundary(model_3, X_test, y_test) # model_3 = has non-linearity"
   ]
  },
  {
   "cell_type": "markdown",
   "metadata": {
    "id": "cAfU5dXrNGuC"
   },
   "source": [
    "Nice! Not perfect but still far better than before.\n",
    "\n",
    "Potentially you could try a few tricks to improve the test accuracy of the model? (hint: head back to section 5 for tips on improving the model)"
   ]
  },
  {
   "cell_type": "markdown",
   "metadata": {
    "id": "rarkXnX-Nhj2"
   },
   "source": [
    "## 7. 实现非线性激活函数\n",
    "\n",
    "我们之前看到了如何向我们的模型添加非线性激活函数可以帮助它对非线性数据进行建模。\n",
    "\n",
    ">**注意：** 您在真实世界遇到的大部分数据都是非线性的（或线性和非线性的组合）。 现在我们一直在使用二维图上的点。 但是想象一下，如果你有想要分类的植物图像，就会有很多不同的植物形状。 或者您想总结的来自维基百科的文本，有很多不同的方式可以将单词组合在一起（线性和非线性模式）。\n",
    "\n",
    "但是非线性激活*看起来*是什么样的？\n",
    "\n",
    "我们如何复制一些以及它们的作用？\n",
    "\n",
    "让我们从创建少量数据开始。"
   ]
  },
  {
   "cell_type": "code",
   "execution_count": 43,
   "metadata": {
    "ExecuteTime": {
     "end_time": "2022-09-12T04:51:35.694244Z",
     "start_time": "2022-09-12T04:51:35.687262Z"
    },
    "colab": {
     "base_uri": "https://localhost:8080/"
    },
    "id": "uvpqD28OscTm",
    "outputId": "befa3534-f5b1-48f2-88c5-63836759d834"
   },
   "outputs": [
    {
     "data": {
      "text/plain": [
       "tensor([-10.,  -9.,  -8.,  -7.,  -6.,  -5.,  -4.,  -3.,  -2.,  -1.,   0.,   1.,\n",
       "          2.,   3.,   4.,   5.,   6.,   7.,   8.,   9.])"
      ]
     },
     "execution_count": 43,
     "metadata": {},
     "output_type": "execute_result"
    }
   ],
   "source": [
    "# Create a toy tensor (similar to the data going into our model(s))\n",
    "A = torch.arange(-10, 10, 1, dtype=torch.float32)\n",
    "A"
   ]
  },
  {
   "cell_type": "markdown",
   "metadata": {
    "id": "vvSZ4M3-ssZn"
   },
   "source": [
    "Wonderful, now let's plot it."
   ]
  },
  {
   "cell_type": "code",
   "execution_count": 44,
   "metadata": {
    "ExecuteTime": {
     "end_time": "2022-09-12T04:51:37.443876Z",
     "start_time": "2022-09-12T04:51:37.342711Z"
    },
    "colab": {
     "base_uri": "https://localhost:8080/",
     "height": 265
    },
    "id": "FTCID1lRsrte",
    "outputId": "477fdd3d-ae28-4caf-b9ed-b2a9ec369bee"
   },
   "outputs": [
    {
     "data": {
      "image/png": "[encoded data removed]",
      "text/plain": [
       "<Figure size 432x288 with 1 Axes>"
      ]
     },
     "metadata": {
      "needs_background": "light"
     },
     "output_type": "display_data"
    }
   ],
   "source": [
    "# Visualize the toy tensor\n",
    "plt.plot(A);"
   ]
  },
  {
   "cell_type": "markdown",
   "metadata": {
    "id": "ovyXy-Qxsx9x"
   },
   "source": [
    "一条直线，不错\n",
    "\n",
    "现在让我们看看 ReLU 激活函数是如何影响它的。\n",
    "\n",
    "我们将自己重新创建它，而不是使用 PyTorch 的 ReLU (`torch.nn.ReLU`)。\n",
    "\n",
    "ReLU 函数将所有负数变为 0，并将正值保持原样。"
   ]
  },
  {
   "cell_type": "code",
   "execution_count": 45,
   "metadata": {
    "ExecuteTime": {
     "end_time": "2022-09-12T04:51:53.930473Z",
     "start_time": "2022-09-12T04:51:53.810189Z"
    },
    "colab": {
     "base_uri": "https://localhost:8080/"
    },
    "id": "XhdCQKbcsxi1",
    "outputId": "47c7fa54-6d03-47b7-a745-0bb3599c82fd"
   },
   "outputs": [
    {
     "data": {
      "text/plain": [
       "tensor([0., 0., 0., 0., 0., 0., 0., 0., 0., 0., 0., 1., 2., 3., 4., 5., 6., 7.,\n",
       "        8., 9.])"
      ]
     },
     "execution_count": 45,
     "metadata": {},
     "output_type": "execute_result"
    }
   ],
   "source": [
    "# Create ReLU function by hand \n",
    "def relu(x):\n",
    "  return torch.maximum(torch.tensor(0), x) # inputs must be tensors\n",
    "\n",
    "# Pass toy tensor through ReLU function\n",
    "relu(A)"
   ]
  },
  {
   "cell_type": "markdown",
   "metadata": {
    "id": "dqw_P9GiuiB9"
   },
   "source": [
    "看起来我们的 ReLU 函数起作用了，所有的负值都是零。\n",
    "\n",
    "让我们绘制它们。"
   ]
  },
  {
   "cell_type": "code",
   "execution_count": 46,
   "metadata": {
    "ExecuteTime": {
     "end_time": "2022-09-12T04:52:06.724769Z",
     "start_time": "2022-09-12T04:52:06.632522Z"
    },
    "colab": {
     "base_uri": "https://localhost:8080/",
     "height": 265
    },
    "id": "fICVVmAgsxal",
    "outputId": "4ada6523-81e8-450e-89b5-0be3da23f04c"
   },
   "outputs": [
    {
     "data": {
      "image/png": "[encoded data removed]",
      "text/plain": [
       "<Figure size 432x288 with 1 Axes>"
      ]
     },
     "metadata": {
      "needs_background": "light"
     },
     "output_type": "display_data"
    }
   ],
   "source": [
    "# Plot ReLU activated toy tensor\n",
    "plt.plot(relu(A));"
   ]
  },
  {
   "cell_type": "markdown",
   "metadata": {
    "id": "AlmI4CHzsxEt"
   },
   "source": [
    "Nice! That looks exactly like the shape of the ReLU function on the [Wikipedia page for ReLU](https://en.wikipedia.org/wiki/Rectifier_(neural_networks)).\n",
    "\n",
    "How about we try the [sigmoid function](https://en.wikipedia.org/wiki/Sigmoid_function) we've been using?\n",
    "\n",
    "The sigmoid function formula goes like so:\n",
    "\n",
    "$$ out_i = \\frac{1}{1+e^{-input_i}} $$ \n",
    "\n",
    "Or using $x$ as input:\n",
    "\n",
    "$$ S(x) = \\frac{1}{1+e^{-x_i}} $$\n",
    "\n",
    "Where $S$ stands for sigmoid, $e$ stands for [exponential](https://en.wikipedia.org/wiki/Exponential_function) ([`torch.exp()`](https://pytorch.org/docs/stable/generated/torch.exp.html)) and $i$ stands for a particular element in a tensor.\n",
    "\n",
    "Let's build a function to replicate the sigmoid function with PyTorch."
   ]
  },
  {
   "cell_type": "code",
   "execution_count": 47,
   "metadata": {
    "ExecuteTime": {
     "end_time": "2022-09-12T04:52:27.213791Z",
     "start_time": "2022-09-12T04:52:26.986585Z"
    },
    "colab": {
     "base_uri": "https://localhost:8080/"
    },
    "id": "hcDQDy8bvDcR",
    "outputId": "899e7595-5b1c-4182-c1ca-94aadaa097e1"
   },
   "outputs": [
    {
     "data": {
      "text/plain": [
       "tensor([4.5398e-05, 1.2339e-04, 3.3535e-04, 9.1105e-04, 2.4726e-03, 6.6929e-03,\n",
       "        1.7986e-02, 4.7426e-02, 1.1920e-01, 2.6894e-01, 5.0000e-01, 7.3106e-01,\n",
       "        8.8080e-01, 9.5257e-01, 9.8201e-01, 9.9331e-01, 9.9753e-01, 9.9909e-01,\n",
       "        9.9966e-01, 9.9988e-01])"
      ]
     },
     "execution_count": 47,
     "metadata": {},
     "output_type": "execute_result"
    }
   ],
   "source": [
    "# Create a custom sigmoid function\n",
    "def sigmoid(x):\n",
    "  return 1 / (1 + torch.exp(-x))\n",
    "\n",
    "# Test custom sigmoid on toy tensor\n",
    "sigmoid(A)"
   ]
  },
  {
   "cell_type": "markdown",
   "metadata": {
    "id": "qiwvlDWmxPUt"
   },
   "source": [
    "Woah, those values look a lot like prediction probabilities we've seen earlier, let's see what they look like visualized."
   ]
  },
  {
   "cell_type": "code",
   "execution_count": 48,
   "metadata": {
    "ExecuteTime": {
     "end_time": "2022-09-12T04:52:31.328569Z",
     "start_time": "2022-09-12T04:52:31.230397Z"
    },
    "colab": {
     "base_uri": "https://localhost:8080/",
     "height": 265
    },
    "id": "dxihhxGBxOWf",
    "outputId": "c6a6d3de-e9fb-445d-8d63-3964753a4559"
   },
   "outputs": [
    {
     "data": {
      "image/png": "[encoded data removed]",
      "text/plain": [
       "<Figure size 432x288 with 1 Axes>"
      ]
     },
     "metadata": {
      "needs_background": "light"
     },
     "output_type": "display_data"
    }
   ],
   "source": [
    "# Plot sigmoid activated toy tensor\n",
    "plt.plot(sigmoid(A));"
   ]
  },
  {
   "cell_type": "markdown",
   "metadata": {
    "id": "IpOqVYpdxgWl"
   },
   "source": [
    "看起来不错！ 我们已经从直线变成了曲线。\n",
    "\n",
    " [non-linear activation functions](https://pytorch.org/docs/stable/nn.html#non-linear-activations-weighted-sum-nonlinearity) 有更多激活函数。\n",
    "\n",
    "但这两个是最常见的两个。\n",
    "\n",
    "问题仍然存在，您可以使用无限量的线性（直线）和非线性（非直线）线绘制什么图案？\n",
    "\n",
    "几乎什么都对吗？\n",
    "\n",
    "当我们结合线性和非线性函数时，这正是我们的模型所做的。\n",
    "\n",
    "我们没有告诉我们的模型该做什么，而是给它工具来找出如何最好地发现数据中的模式。\n",
    "\n",
    "这些工具是线性和非线性函数。"
   ]
  },
  {
   "cell_type": "markdown",
   "metadata": {
    "id": "_1OeaW0FHC8G"
   },
   "source": [
    "## 8. 组合起来，实现一个多分类模型\n",
    "\n",
    "\n",
    "\n",
    "回想一下 **二元分类** 问题处理将某物分类为两个选项之一（例如，一张照片作为猫照片或狗照片），而 **多类分类** 问题处理从列表中对某物进行分类 *超过*两个选项（例如，将照片分类为猫、狗或鸡）。\n",
    "\n",
    "![binary vs multi-class classification image with the example of dog vs cat for binary classification and dog vs cat vs chicken for multi-class classification](https://raw.githubusercontent.com/mrdbourke/pytorch-deep-learning/main/images/02-binary-vs-multi-class-classification.png)\n",
    "*二进制与多类分类的示例。 二进制处理两个类（一件事或另一件事），而多类分类可以处理两个以上的任意数量的类，例如流行的 [ImageNet-1k 数据集]（https://www.image-net.org/) 用作计算机视觉基准，有 1000 个类。*"
   ]
  },
  {
   "cell_type": "markdown",
   "metadata": {
    "id": "f5Ephtx6f1jB"
   },
   "source": [
    "### 8.1创建多类别数据\n",
    "\n",
    "To begin a multi-class classification problem, let's create some multi-class data.\n",
    "\n",
    "To do so, we can leverage Scikit-Learn's [`make_blobs()`](https://scikit-learn.org/stable/modules/generated/sklearn.datasets.make_blobs.html) method.\n",
    "\n",
    "This method will create however many classes (using the `centers` parameter) we want.\n",
    "\n",
    "Specifically, let's do the following:\n",
    "\n",
    "1. Create some multi-class data with `make_blobs()`.\n",
    "2. Turn the data into tensors (the default of `make_blobs()` is to use NumPy arrays).\n",
    "3. Split the data into training and test sets using `train_test_split()`.\n",
    "4. Visualize the data."
   ]
  },
  {
   "cell_type": "code",
   "execution_count": 62,
   "metadata": {
    "ExecuteTime": {
     "end_time": "2022-09-12T04:59:06.013568Z",
     "start_time": "2022-09-12T04:59:05.848439Z"
    },
    "colab": {
     "base_uri": "https://localhost:8080/",
     "height": 515
    },
    "id": "x3_UwcwHHC8G",
    "outputId": "7cd92d66-41e3-4aa0-ab94-f9f9ef40fcce"
   },
   "outputs": [
    {
     "name": "stdout",
     "output_type": "stream",
     "text": [
      "tensor([[-8.4134,  6.9352],\n",
      "        [-5.7665, -6.4312],\n",
      "        [-6.0421, -6.7661],\n",
      "        [ 3.9508,  0.6984],\n",
      "        [ 4.2505, -0.2815]]) tensor([3, 2, 2, 1, 1])\n"
     ]
    },
    {
     "data": {
      "image/png": "[encoded data removed]",
      "text/plain": [
       "<Figure size 720x504 with 1 Axes>"
      ]
     },
     "metadata": {
      "needs_background": "light"
     },
     "output_type": "display_data"
    }
   ],
   "source": [
    "# Import dependencies\n",
    "import torch\n",
    "import matplotlib.pyplot as plt\n",
    "from sklearn.datasets import make_blobs\n",
    "from sklearn.model_selection import train_test_split\n",
    "\n",
    "# Set the hyperparameters for data creation\n",
    "NUM_CLASSES = 4\n",
    "NUM_FEATURES = 2\n",
    "RANDOM_SEED = 42\n",
    "\n",
    "# 1. Create multi-class data\n",
    "X_blob, y_blob = make_blobs(n_samples=1000,\n",
    "    n_features=NUM_FEATURES, # X features\n",
    "    centers=NUM_CLASSES, # y labels \n",
    "    cluster_std=1.5, # give the clusters a little shake up (try changing this to 1.0, the default)\n",
    "    random_state=RANDOM_SEED\n",
    ")\n",
    "\n",
    "# 2. Turn data into tensors\n",
    "X_blob = torch.from_numpy(X_blob).type(torch.float)\n",
    "y_blob = torch.from_numpy(y_blob).type(torch.LongTensor)\n",
    "print(X_blob[:5], y_blob[:5])\n",
    "\n",
    "# 3. Split into train and test sets\n",
    "X_blob_train, X_blob_test, y_blob_train, y_blob_test = train_test_split(X_blob,\n",
    "    y_blob,\n",
    "    test_size=0.2,\n",
    "    random_state=RANDOM_SEED\n",
    ")\n",
    "\n",
    "# 4. Plot data\n",
    "plt.figure(figsize=(10, 7))\n",
    "plt.scatter(X_blob[:, 0], X_blob[:, 1], c=y_blob, cmap=plt.cm.RdYlBu);"
   ]
  },
  {
   "cell_type": "markdown",
   "metadata": {
    "id": "xBCnUs0oHC8G"
   },
   "source": [
    "Nice! Looks like we've got some multi-class data ready to go.\n",
    "\n",
    "Let's build a model to separate the coloured blobs. \n",
    "\n",
    "> **Question:** Does this dataset need non-linearity? Or could you draw a succession of straight lines to separate it?"
   ]
  },
  {
   "cell_type": "markdown",
   "metadata": {
    "id": "_dINSA0Chiof"
   },
   "source": [
    "### 8.2 Building a multi-class classification model in PyTorch\n",
    "\n",
    "We've created a few models in PyTorch so far.\n",
    "\n",
    "You might also be starting to get an idea of how flexible neural networks are.\n",
    "\n",
    "How about we build one similar to `model_3` but this still capable of handling multi-class data?\n",
    "\n",
    "To do so, let's create a subclass of `nn.Module` that takes in three hyperparameters:\n",
    "* `input_features` - the number of `X` features coming into the model.\n",
    "* `output_features` - the ideal numbers of output features we'd like (this will be equivalent to `NUM_CLASSES` or the number of classes in your multi-class classification problem).\n",
    "* `hidden_units` - the number of hidden neurons we'd like each hidden layer to use.\n",
    "\n",
    "Since we're putting things together, let's setup some device agnostic code (we don't have to do this again in the same notebook, it's only a reminder).\n",
    "\n",
    "Then we'll create the model class using the hyperparameters above."
   ]
  },
  {
   "cell_type": "code",
   "execution_count": 48,
   "metadata": {
    "colab": {
     "base_uri": "https://localhost:8080/",
     "height": 36
    },
    "id": "g9OPjDfQk1AU",
    "outputId": "64d275af-144c-4b5f-99b7-a2d2ebf235f8"
   },
   "outputs": [
    {
     "data": {
      "text/plain": [
       "'cuda'"
      ]
     },
     "execution_count": 48,
     "metadata": {},
     "output_type": "execute_result"
    }
   ],
   "source": [
    "# Create device agnostic code\n",
    "device = \"cuda\" if torch.cuda.is_available() else \"cpu\"\n",
    "device"
   ]
  },
  {
   "cell_type": "code",
   "execution_count": 63,
   "metadata": {
    "ExecuteTime": {
     "end_time": "2022-09-12T06:43:38.612048Z",
     "start_time": "2022-09-12T06:43:38.598963Z"
    },
    "colab": {
     "base_uri": "https://localhost:8080/"
    },
    "id": "TGoZCzOrHC8H",
    "outputId": "0f8d1d8e-e578-4bf6-eea6-1cf27bda4764"
   },
   "outputs": [
    {
     "data": {
      "text/plain": [
       "BlobModel(\n",
       "  (linear_layer_stack): Sequential(\n",
       "    (0): Linear(in_features=2, out_features=8, bias=True)\n",
       "    (1): Linear(in_features=8, out_features=8, bias=True)\n",
       "    (2): Linear(in_features=8, out_features=4, bias=True)\n",
       "  )\n",
       ")"
      ]
     },
     "execution_count": 63,
     "metadata": {},
     "output_type": "execute_result"
    }
   ],
   "source": [
    "from torch import nn\n",
    "\n",
    "# Build model\n",
    "class BlobModel(nn.Module):\n",
    "    def __init__(self, input_features, output_features, hidden_units=8):\n",
    "        \"\"\"Initializes all required hyperparameters for a multi-class classification model.\n",
    "\n",
    "        Args:\n",
    "            input_features (int): Number of input features to the model.\n",
    "            out_features (int): Number of output features of the model\n",
    "              (how many classes there are).\n",
    "            hidden_units (int): Number of hidden units between layers, default 8.\n",
    "        \"\"\"\n",
    "        super().__init__()\n",
    "        self.linear_layer_stack = nn.Sequential(\n",
    "            nn.Linear(in_features=input_features, out_features=hidden_units),\n",
    "            # nn.ReLU(), # <- does our dataset require non-linear layers? (try uncommenting and see if the results change)\n",
    "            nn.Linear(in_features=hidden_units, out_features=hidden_units),\n",
    "            # nn.ReLU(), # <- does our dataset require non-linear layers? (try uncommenting and see if the results change)\n",
    "            nn.Linear(in_features=hidden_units, out_features=output_features), # how many classes are there?\n",
    "        )\n",
    "    \n",
    "    def forward(self, x):\n",
    "        return self.linear_layer_stack(x)\n",
    "\n",
    "# Create an instance of BlobModel and send it to the target device\n",
    "model_4 = BlobModel(input_features=NUM_FEATURES, \n",
    "                    output_features=NUM_CLASSES, \n",
    "                    hidden_units=8).to(device)\n",
    "model_4"
   ]
  },
  {
   "cell_type": "markdown",
   "metadata": {
    "id": "_eOASXWAHC8H"
   },
   "source": [
    "Excellent! Our multi-class model is ready to go, let's create a loss function and optimizer for it.\n",
    "\n",
    "### 8.3 Creating a loss function and optimizer for a multi-class PyTorch model\n",
    "\n",
    "Since we're working on a multi-class classification problem, we'll use the `nn.CrossEntropyLoss()` method as our loss function.\n",
    "\n",
    "And we'll stick with using SGD with a learning rate of 0.1 for optimizing our `model_4` parameters.\n"
   ]
  },
  {
   "cell_type": "code",
   "execution_count": 51,
   "metadata": {
    "ExecuteTime": {
     "end_time": "2022-09-12T04:53:44.500273Z",
     "start_time": "2022-09-12T04:53:44.496408Z"
    },
    "id": "3ngHLo--HC8H"
   },
   "outputs": [],
   "source": [
    "# Create loss and optimizer\n",
    "loss_fn = nn.CrossEntropyLoss()\n",
    "optimizer = torch.optim.SGD(model_4.parameters(), \n",
    "                            lr=0.1) # exercise: try changing the learning rate here and seeing what happens to the model's performance"
   ]
  },
  {
   "cell_type": "markdown",
   "metadata": {
    "id": "orcVVmLzo3gX"
   },
   "source": [
    "### 8.4 Getting prediction probabilities for a multi-class PyTorch model\n",
    "\n",
    "Alright, we've got a loss function and optimizer ready, and we're ready to train our model but before we do let's do a single forward pass with our model to see if it works."
   ]
  },
  {
   "cell_type": "code",
   "execution_count": 52,
   "metadata": {
    "ExecuteTime": {
     "end_time": "2022-09-12T04:53:46.987536Z",
     "start_time": "2022-09-12T04:53:46.978639Z"
    },
    "colab": {
     "base_uri": "https://localhost:8080/"
    },
    "id": "--d6YmldpZh_",
    "outputId": "2b1fb56f-cf42-49a3-f1ec-7978cfd68b56"
   },
   "outputs": [
    {
     "data": {
      "text/plain": [
       "tensor([[-1.2711, -0.6494, -1.4740, -0.7044],\n",
       "        [ 0.2210, -1.5439,  0.0420,  1.1531],\n",
       "        [ 2.8698,  0.9143,  3.3169,  1.4027],\n",
       "        [ 1.9576,  0.3125,  2.2244,  1.1324],\n",
       "        [ 0.5458, -1.2381,  0.4441,  1.1804]], device='cuda:0',\n",
       "       grad_fn=<SliceBackward0>)"
      ]
     },
     "execution_count": 52,
     "metadata": {},
     "output_type": "execute_result"
    }
   ],
   "source": [
    "# Perform a single forward pass on the data (we'll need to put it to the target device for it to work)\n",
    "model_4(X_blob_train.to(device))[:5]"
   ]
  },
  {
   "cell_type": "markdown",
   "metadata": {
    "id": "0fk1K9VlpoPI"
   },
   "source": [
    "这里有什么？\n",
    "\n",
    "看起来我们每个样本的每个特征都有一个值。\n",
    "\n",
    "让我们检查形状以确认。"
   ]
  },
  {
   "cell_type": "code",
   "execution_count": 53,
   "metadata": {
    "ExecuteTime": {
     "end_time": "2022-09-12T04:53:48.863467Z",
     "start_time": "2022-09-12T04:53:48.853423Z"
    },
    "colab": {
     "base_uri": "https://localhost:8080/"
    },
    "id": "3W4jnvmWp0OH",
    "outputId": "f515c93d-2c57-43fe-f5ce-d6b6aa20cd0f"
   },
   "outputs": [
    {
     "data": {
      "text/plain": [
       "(torch.Size([4]), 4)"
      ]
     },
     "execution_count": 53,
     "metadata": {},
     "output_type": "execute_result"
    }
   ],
   "source": [
    "# How many elements in a single prediction sample?\n",
    "model_4(X_blob_train.to(device))[0].shape, NUM_CLASSES "
   ]
  },
  {
   "cell_type": "markdown",
   "metadata": {
    "id": "NyQSNaSVqBBN"
   },
   "source": [
    "太棒了，我们的模型为我们拥有的每个类别预测一个值。\n",
    "\n",
    "你还记得我们模型的原始输出叫什么吗？\n",
    "\n",
    "提示：它与“frog splits”押韵（在这些材料的制作过程中没有伤害任何动物）。\n",
    "\n",
    "如果您猜到了 *logits*，那么您是正确的。\n",
    "\n",
    "所以现在我们的模型正在输出 logits，但是如果我们想确切地确定哪个标签给出了样本呢？\n",
    "\n",
    "就像我们对二元分类问题所做的那样，我们如何从“logits -> 预测概率 -> 预测标签”开始？\n",
    "\n",
    "这就是 [softmax 激活函数](https://en.wikipedia.org/wiki/Softmax_function) 发挥作用的地方。\n",
    "\n",
    "softmax 函数计算每个预测类别与所有其他可能类别相比成为实际预测类别的概率。\n",
    "\n",
    "让我们看看代码。"
   ]
  },
  {
   "cell_type": "code",
   "execution_count": 64,
   "metadata": {
    "ExecuteTime": {
     "end_time": "2022-09-12T06:46:53.063568Z",
     "start_time": "2022-09-12T06:46:53.046587Z"
    },
    "colab": {
     "base_uri": "https://localhost:8080/"
    },
    "id": "6hU_Wxudrbiq",
    "outputId": "c12e6a9f-c80f-466c-aa5c-27e30cfe9963"
   },
   "outputs": [
    {
     "name": "stdout",
     "output_type": "stream",
     "text": [
      "tensor([[-1.2549, -0.8112, -1.4795, -0.5696],\n",
      "        [ 1.7168, -1.2270,  1.7367,  2.1010],\n",
      "        [ 2.2400,  0.7714,  2.6020,  1.0107],\n",
      "        [-0.7993, -0.3723, -0.9138, -0.5388],\n",
      "        [-0.4332, -1.6117, -0.6891,  0.6852]], device='cuda:0',\n",
      "       grad_fn=<SliceBackward0>)\n",
      "tensor([[0.1872, 0.2918, 0.1495, 0.3715],\n",
      "        [0.2824, 0.0149, 0.2881, 0.4147],\n",
      "        [0.3380, 0.0778, 0.4854, 0.0989],\n",
      "        [0.2118, 0.3246, 0.1889, 0.2748],\n",
      "        [0.1945, 0.0598, 0.1506, 0.5951]], device='cuda:0',\n",
      "       grad_fn=<SliceBackward0>)\n"
     ]
    }
   ],
   "source": [
    "# Make prediction logits with model\n",
    "y_logits = model_4(X_blob_test.to(device))\n",
    "\n",
    "# Perform softmax calculation on logits across dimension 1 to get prediction probabilities\n",
    "y_pred_probs = torch.softmax(y_logits, dim=1) \n",
    "print(y_logits[:5])\n",
    "print(y_pred_probs[:5])"
   ]
  },
  {
   "cell_type": "markdown",
   "metadata": {
    "id": "A_pbSytSrzHF"
   },
   "source": [
    "嗯，这里发生了什么？\n",
    "\n",
    "看起来 softmax 函数的输出仍然是混杂的数字（它们确实是，因为我们的模型还没有经过训练并且正在使用随机模式进行预测），但是每个样本都有一个非常具体的不同之处。\n",
    "\n",
    "在通过 softmax 函数传递 logits 之后，每个单独的样本现在加到 1（或非常接近）。\n",
    "\n",
    "让我们检查。"
   ]
  },
  {
   "cell_type": "code",
   "execution_count": 65,
   "metadata": {
    "ExecuteTime": {
     "end_time": "2022-09-12T06:47:10.873152Z",
     "start_time": "2022-09-12T06:47:10.866098Z"
    },
    "colab": {
     "base_uri": "https://localhost:8080/"
    },
    "id": "5fC5No7IsSiB",
    "outputId": "db517fa9-04eb-4efe-a75b-970bdf2a3163"
   },
   "outputs": [
    {
     "data": {
      "text/plain": [
       "tensor(1., device='cuda:0', grad_fn=<SumBackward0>)"
      ]
     },
     "execution_count": 65,
     "metadata": {},
     "output_type": "execute_result"
    }
   ],
   "source": [
    "# Sum the first sample output of the softmax activation function \n",
    "torch.sum(y_pred_probs[0])"
   ]
  },
  {
   "cell_type": "markdown",
   "metadata": {
    "id": "yhwu9ln1sbl7"
   },
   "source": [
    "这些预测概率本质上是说模型*认为*目标“X”样本（输入）映射到每个类的程度。\n",
    "\n",
    "由于 `y_pred_probs` 中的每个类都有一个值，*highest* 值的索引是模型认为特定数据样本 *most* 所属的类。\n",
    "\n",
    "我们可以使用`torch.argmax()`检查哪个索引具有最高值。"
   ]
  },
  {
   "cell_type": "code",
   "execution_count": 66,
   "metadata": {
    "ExecuteTime": {
     "end_time": "2022-09-12T06:47:23.648867Z",
     "start_time": "2022-09-12T06:47:23.637158Z"
    },
    "colab": {
     "base_uri": "https://localhost:8080/"
    },
    "id": "6X3Yf5gCsbME",
    "outputId": "a7e4db7e-08fd-426c-8b54-dfd7d3943d79"
   },
   "outputs": [
    {
     "name": "stdout",
     "output_type": "stream",
     "text": [
      "tensor([0.1872, 0.2918, 0.1495, 0.3715], device='cuda:0',\n",
      "       grad_fn=<SelectBackward0>)\n",
      "tensor(3, device='cuda:0')\n"
     ]
    }
   ],
   "source": [
    "# Which class does the model think is *most* likely at the index 0 sample?\n",
    "print(y_pred_probs[0])\n",
    "print(torch.argmax(y_pred_probs[0]))"
   ]
  },
  {
   "cell_type": "markdown",
   "metadata": {
    "id": "9veE071JtSZJ"
   },
   "source": [
    "您可以看到 `torch.argmax()` 的输出返回 3，因此对于索引 0 处样本的特征（`X`），模型预测最可能的类值（`y`）是 3。\n",
    "\n",
    "当然，现在这只是随机猜测，所以它有 25% 的机会是正确的（因为有四个类）。 但是我们可以通过训练模型来提高这些机会。\n",
    "\n",
    "> **注意：** 综上所述，模型的原始输出称为 **logits**。\n",
    ">\n",
    "> 对于多类分类问题，要将 logits 转换为**预测概率**，请使用 softmax 激活函数 (`torch.softmax`)。\n",
    ">\n",
    "> 具有最高**预测概率**的值的索引是模型认为在给定该样本的输入特征的情况下*最可能*可能的类别编号（虽然这是一个预测，但这并不意味着它是正确的 ）。"
   ]
  },
  {
   "cell_type": "markdown",
   "metadata": {
    "id": "hlqJ3_xTupU3"
   },
   "source": [
    "### 8.5 Creating a training and testing loop for a multi-class PyTorch model\n",
    "好的，现在我们已经完成了所有准备步骤，让我们编写一个训练和测试循环来改进和评估我们的模型。\n",
    "\n",
    "我们已经完成了其中的许多步骤，然后才将其中的大部分内容付诸实践。\n",
    "\n",
    "唯一的区别是我们将调整步骤以将模型输出（logits）转换为预测概率（使用 softmax 激活函数），然后转换为预测标签（通过获取 softmax 激活函数输出的 argmax）。\n",
    "\n",
    "让我们为 `epochs=100` 训练模型并每 10 个 epoch 评估一次。"
   ]
  },
  {
   "cell_type": "code",
   "execution_count": 57,
   "metadata": {
    "ExecuteTime": {
     "end_time": "2022-09-12T04:54:00.008822Z",
     "start_time": "2022-09-12T04:53:59.606441Z"
    },
    "colab": {
     "base_uri": "https://localhost:8080/"
    },
    "id": "55s1Pis9HC8H",
    "outputId": "4a7b0fd7-8a08-40a4-8694-435178b70832"
   },
   "outputs": [
    {
     "name": "stdout",
     "output_type": "stream",
     "text": [
      "Epoch: 0 | Loss: 1.04324, Acc: 65.50% | Test Loss: 0.57861, Test Acc: 95.50%\n",
      "Epoch: 10 | Loss: 0.14398, Acc: 99.12% | Test Loss: 0.13037, Test Acc: 99.00%\n",
      "Epoch: 20 | Loss: 0.08062, Acc: 99.12% | Test Loss: 0.07216, Test Acc: 99.50%\n",
      "Epoch: 30 | Loss: 0.05924, Acc: 99.12% | Test Loss: 0.05133, Test Acc: 99.50%\n",
      "Epoch: 40 | Loss: 0.04892, Acc: 99.00% | Test Loss: 0.04098, Test Acc: 99.50%\n",
      "Epoch: 50 | Loss: 0.04295, Acc: 99.00% | Test Loss: 0.03486, Test Acc: 99.50%\n",
      "Epoch: 60 | Loss: 0.03910, Acc: 99.00% | Test Loss: 0.03083, Test Acc: 99.50%\n",
      "Epoch: 70 | Loss: 0.03643, Acc: 99.00% | Test Loss: 0.02799, Test Acc: 99.50%\n",
      "Epoch: 80 | Loss: 0.03448, Acc: 99.00% | Test Loss: 0.02587, Test Acc: 99.50%\n",
      "Epoch: 90 | Loss: 0.03300, Acc: 99.12% | Test Loss: 0.02423, Test Acc: 99.50%\n"
     ]
    }
   ],
   "source": [
    "# Fit the model\n",
    "torch.manual_seed(42)\n",
    "\n",
    "# Set number of epochs\n",
    "epochs = 100\n",
    "\n",
    "# Put data to target device\n",
    "X_blob_train, y_blob_train = X_blob_train.to(device), y_blob_train.to(device)\n",
    "X_blob_test, y_blob_test = X_blob_test.to(device), y_blob_test.to(device)\n",
    "\n",
    "for epoch in range(epochs):\n",
    "    ### Training\n",
    "    model_4.train()\n",
    "\n",
    "    # 1. Forward pass\n",
    "    y_logits = model_4(X_blob_train) # model outputs raw logits \n",
    "    y_pred = torch.softmax(y_logits, dim=1).argmax(dim=1) # go from logits -> prediction probabilities -> prediction labels\n",
    "    # print(y_logits)\n",
    "    # 2. Calculate loss and accuracy\n",
    "    loss = loss_fn(y_logits, y_blob_train) \n",
    "    acc = accuracy_fn(y_true=y_blob_train,\n",
    "                      y_pred=y_pred)\n",
    "\n",
    "    # 3. Optimizer zero grad\n",
    "    optimizer.zero_grad()\n",
    "\n",
    "    # 4. Loss backwards\n",
    "    loss.backward()\n",
    "\n",
    "    # 5. Optimizer step\n",
    "    optimizer.step()\n",
    "\n",
    "    ### Testing\n",
    "    model_4.eval()\n",
    "    with torch.inference_mode():\n",
    "      # 1. Forward pass\n",
    "      test_logits = model_4(X_blob_test)\n",
    "      test_pred = torch.softmax(test_logits, dim=1).argmax(dim=1)\n",
    "      # 2. Calculate test loss and accuracy\n",
    "      test_loss = loss_fn(test_logits, y_blob_test)\n",
    "      test_acc = accuracy_fn(y_true=y_blob_test,\n",
    "                             y_pred=test_pred)\n",
    "\n",
    "    # Print out what's happening\n",
    "    if epoch % 10 == 0:\n",
    "        print(f\"Epoch: {epoch} | Loss: {loss:.5f}, Acc: {acc:.2f}% | Test Loss: {test_loss:.5f}, Test Acc: {test_acc:.2f}%\") "
   ]
  },
  {
   "cell_type": "markdown",
   "metadata": {
    "id": "m_JNlpd4L6dL"
   },
   "source": [
    "### 8.6 Making and evaluating predictions with a PyTorch multi-class model\n",
    "\n",
    "It looks like our trained model is performaning pretty well.\n",
    "\n",
    "But to make sure of this, let's make some predictions and visualize them."
   ]
  },
  {
   "cell_type": "code",
   "execution_count": 58,
   "metadata": {
    "ExecuteTime": {
     "end_time": "2022-09-12T04:54:01.852383Z",
     "start_time": "2022-09-12T04:54:01.841254Z"
    },
    "colab": {
     "base_uri": "https://localhost:8080/"
    },
    "id": "NjCKKhsGHC8H",
    "outputId": "583e10fb-fa1c-463a-fbd0-4d31d76b82ab"
   },
   "outputs": [
    {
     "data": {
      "text/plain": [
       "tensor([[  4.3377,  10.3539, -14.8948,  -9.7642],\n",
       "        [  5.0142, -12.0371,   3.3860,  10.6699],\n",
       "        [ -5.5885, -13.3448,  20.9894,  12.7711],\n",
       "        [  1.8400,   7.5599,  -8.6016,  -6.9942],\n",
       "        [  8.0726,   3.2906, -14.5998,  -3.6186],\n",
       "        [  5.5844, -14.9521,   5.0168,  13.2890],\n",
       "        [ -5.9739, -10.1913,  18.8655,   9.9179],\n",
       "        [  7.0755,  -0.7601,  -9.5531,   0.1736],\n",
       "        [ -5.5918, -18.5990,  25.5309,  17.5799],\n",
       "        [  7.3142,   0.7197, -11.2017,  -1.2011]], device='cuda:0')"
      ]
     },
     "execution_count": 58,
     "metadata": {},
     "output_type": "execute_result"
    }
   ],
   "source": [
    "# Make predictions\n",
    "model_4.eval()\n",
    "with torch.inference_mode():\n",
    "    y_logits = model_4(X_blob_test)\n",
    "\n",
    "# View the first 10 predictions\n",
    "y_logits[:10]"
   ]
  },
  {
   "cell_type": "markdown",
   "metadata": {
    "id": "lpAdeJRMNHjG"
   },
   "source": [
    "好吧，看起来我们模型的预测仍然是 logit 形式。\n",
    "\n",
    "虽然要评估它们，但它们必须与我们的标签 (`y_blob_test`) 采用相同的形式，它们是整数形式。\n",
    "\n",
    "让我们将模型的预测 logits 转换为预测概率（使用 `torch.softmax()`），然后转换为预测标签（通过获取每个样本的 `argmax()`）。\n",
    "> **注意：** 可以通过直接在 logits 上调用 `torch.argmax()` 来跳过 `torch.softmax()` 函数并直接从 `predicted logits -> 预测标签`开始。\n",
    ">\n",
    "> 例如，`y_preds = torch.argmax(y_logits, dim=1)`，这节省了一个计算步骤（没有`torch.softmax()`），但导致没有可用的预测概率。"
   ]
  },
  {
   "cell_type": "code",
   "execution_count": 59,
   "metadata": {
    "ExecuteTime": {
     "end_time": "2022-09-12T04:54:04.357444Z",
     "start_time": "2022-09-12T04:54:04.349794Z"
    },
    "colab": {
     "base_uri": "https://localhost:8080/"
    },
    "id": "faDQ4oLpHC8H",
    "outputId": "ca32986f-8dc0-419d-84df-1cc3ba8577e5"
   },
   "outputs": [
    {
     "name": "stdout",
     "output_type": "stream",
     "text": [
      "Predictions: tensor([1, 3, 2, 1, 0, 3, 2, 0, 2, 0], device='cuda:0')\n",
      "Labels: tensor([1, 3, 2, 1, 0, 3, 2, 0, 2, 0], device='cuda:0')\n",
      "Test accuracy: 99.5%\n"
     ]
    }
   ],
   "source": [
    "# Turn predicted logits in prediction probabilities\n",
    "y_pred_probs = torch.softmax(y_logits, dim=1)\n",
    "\n",
    "# Turn prediction probabilities into prediction labels\n",
    "y_preds = y_pred_probs.argmax(dim=1)\n",
    "\n",
    "# Compare first 10 model preds and test labels\n",
    "print(f\"Predictions: {y_preds[:10]}\\nLabels: {y_blob_test[:10]}\")\n",
    "print(f\"Test accuracy: {accuracy_fn(y_true=y_blob_test, y_pred=y_preds)}%\")"
   ]
  },
  {
   "cell_type": "markdown",
   "metadata": {
    "id": "AMA5SSixOSru"
   },
   "source": [
    "好的！ 我们的模型预测现在与我们的测试标签采用相同的形式。\n",
    "\n",
    "让我们用 `plot_decision_boundary()` 将它们可视化，记住因为我们的数据在 GPU 上，我们必须将其移动到 CPU 以与 matplotlib 一起使用（`plot_decision_boundary()` 会自动为我们执行此操作）。"
   ]
  },
  {
   "cell_type": "code",
   "execution_count": 60,
   "metadata": {
    "ExecuteTime": {
     "end_time": "2022-09-12T04:54:06.750623Z",
     "start_time": "2022-09-12T04:54:06.441901Z"
    },
    "colab": {
     "base_uri": "https://localhost:8080/",
     "height": 390
    },
    "id": "kLOzBFdRHC8I",
    "outputId": "71dcaf7f-a30e-457d-8949-916cf9c5cc79"
   },
   "outputs": [
    {
     "data": {
      "image/png": "[encoded data removed]",
      "text/plain": [
       "<Figure size 864x432 with 2 Axes>"
      ]
     },
     "metadata": {
      "needs_background": "light"
     },
     "output_type": "display_data"
    }
   ],
   "source": [
    "plt.figure(figsize=(12, 6))\n",
    "plt.subplot(1, 2, 1)\n",
    "plt.title(\"Train\")\n",
    "plot_decision_boundary(model_4, X_blob_train, y_blob_train)\n",
    "plt.subplot(1, 2, 2)\n",
    "plt.title(\"Test\")\n",
    "plot_decision_boundary(model_4, X_blob_test, y_blob_test)"
   ]
  },
  {
   "cell_type": "markdown",
   "metadata": {
    "id": "p0vFchUQx7mc"
   },
   "source": [
    "## 9. More classification evaluation metrics\n",
    "\n",
    "So far we've only covered a couple of ways of evaluating a classification model (accuracy, loss and visualizing predictions).\n",
    "\n",
    "These are some of the most common methods you'll come across and are a good starting point.\n",
    "\n",
    "However, you may want to evaluate you classification model using more metrics such as the following:\n",
    "\n",
    "| **Metric name/Evaluation method** | **Defintion** | **Code** |\n",
    "| --- | --- | --- |\n",
    "| Accuracy | Out of 100 predictions, how many does your model get correct? E.g. 95% accuracy means it gets 95/100 predictions correct. | [`torchmetrics.Accuracy()`](https://torchmetrics.readthedocs.io/en/latest/references/modules.html#id3) or [`sklearn.metrics.accuracy_score()`](https://scikit-learn.org/stable/modules/generated/sklearn.metrics.accuracy_score.html) |\n",
    "| Precision | Proportion of true positives over total number of samples. Higher precision leads to less false positives (model predicts 1 when it should've been 0). | [`torchmetrics.Precision()`](https://torchmetrics.readthedocs.io/en/latest/references/modules.html#id4) or [`sklearn.metrics.precision_score()`](https://scikit-learn.org/stable/modules/generated/sklearn.metrics.precision_score.html) |\n",
    "| Recall | Proportion of true positives over total number of true positives and false negatives (model predicts 0 when it should've been 1). Higher recall leads to less false negatives. | [`torchmetrics.Recall()`](https://torchmetrics.readthedocs.io/en/latest/references/modules.html#id5) or [`sklearn.metrics.recall_score()`](https://scikit-learn.org/stable/modules/generated/sklearn.metrics.recall_score.html) |\n",
    "| F1-score | Combines precision and recall into one metric. 1 is best, 0 is worst. | [`torchmetrics.F1Score()`](https://torchmetrics.readthedocs.io/en/latest/references/modules.html#f1score) or [`sklearn.metrics.f1_score()`](https://scikit-learn.org/stable/modules/generated/sklearn.metrics.f1_score.html) |\n",
    "| [Confusion matrix](https://www.dataschool.io/simple-guide-to-confusion-matrix-terminology/)  | Compares the predicted values with the true values in a tabular way, if 100% correct, all values in the matrix will be top left to bottom right (diagnol line). | [`torchmetrics.ConfusionMatrix`](https://torchmetrics.readthedocs.io/en/latest/references/modules.html#confusionmatrix) or [`sklearn.metrics.plot_confusion_matrix()`](https://scikit-learn.org/stable/modules/generated/sklearn.metrics.ConfusionMatrixDisplay.html#sklearn.metrics.ConfusionMatrixDisplay.from_predictions) |\n",
    "| Classification report | Collection of some of the main classification metrics such as precision, recall and f1-score. | [`sklearn.metrics.classification_report()`](https://scikit-learn.org/stable/modules/generated/sklearn.metrics.classification_report.html) |\n",
    "\n",
    "Scikit-Learn (a popular and world-class machine learning library) has many implementations of the above metrics and you're looking for a PyTorch-like version, check out [TorchMetrics](https://torchmetrics.readthedocs.io/en/latest/), especially the [TorchMetrics classification section](https://torchmetrics.readthedocs.io/en/latest/references/modules.html#classification). \n",
    "\n",
    "Let's try the `torchmetrics.Accuracy` metric out.\n",
    "\n",
    "\n"
   ]
  },
  {
   "cell_type": "code",
   "execution_count": 61,
   "metadata": {
    "ExecuteTime": {
     "end_time": "2022-09-12T04:54:38.312560Z",
     "start_time": "2022-09-12T04:54:28.010488Z"
    },
    "colab": {
     "base_uri": "https://localhost:8080/"
    },
    "id": "6_HrLXfutFFX",
    "outputId": "ca9af26f-3d97-4019-fd7d-105f1dc2e68c",
    "scrolled": false
   },
   "outputs": [
    {
     "name": "stderr",
     "output_type": "stream",
     "text": [
      "WARNING: Ignoring invalid distribution -umpy (d:\\anocda\\envs\\pytorch\\lib\\site-packages)\n",
      "WARNING: Ignoring invalid distribution -pen3d (d:\\anocda\\envs\\pytorch\\lib\\site-packages)\n",
      "WARNING: Ignoring invalid distribution -umpy (d:\\anocda\\envs\\pytorch\\lib\\site-packages)\n",
      "WARNING: Ignoring invalid distribution -pen3d (d:\\anocda\\envs\\pytorch\\lib\\site-packages)\n",
      "WARNING: Ignoring invalid distribution -umpy (d:\\anocda\\envs\\pytorch\\lib\\site-packages)\n",
      "WARNING: Ignoring invalid distribution -pen3d (d:\\anocda\\envs\\pytorch\\lib\\site-packages)\n",
      "WARNING: Ignoring invalid distribution -umpy (d:\\anocda\\envs\\pytorch\\lib\\site-packages)\n",
      "WARNING: Ignoring invalid distribution -pen3d (d:\\anocda\\envs\\pytorch\\lib\\site-packages)\n",
      "WARNING: Ignoring invalid distribution -umpy (d:\\anocda\\envs\\pytorch\\lib\\site-packages)\n",
      "WARNING: Ignoring invalid distribution -pen3d (d:\\anocda\\envs\\pytorch\\lib\\site-packages)\n",
      "WARNING: Ignoring invalid distribution -umpy (d:\\anocda\\envs\\pytorch\\lib\\site-packages)\n",
      "WARNING: Ignoring invalid distribution -pen3d (d:\\anocda\\envs\\pytorch\\lib\\site-packages)\n",
      "WARNING: Ignoring invalid distribution -umpy (d:\\anocda\\envs\\pytorch\\lib\\site-packages)\n",
      "WARNING: Ignoring invalid distribution -pen3d (d:\\anocda\\envs\\pytorch\\lib\\site-packages)\n"
     ]
    },
    {
     "data": {
      "text/plain": [
       "tensor(0.9950, device='cuda:0')"
      ]
     },
     "execution_count": 61,
     "metadata": {},
     "output_type": "execute_result"
    }
   ],
   "source": [
    "!pip -q install torchmetrics\n",
    "\n",
    "from torchmetrics import Accuracy\n",
    "\n",
    "# Setup metric and make sure it's on the target device\n",
    "torchmetrics_accuracy = Accuracy().to(device)\n",
    "\n",
    "# Calculate accuracy\n",
    "torchmetrics_accuracy(y_preds, y_blob_test)"
   ]
  },
  {
   "cell_type": "markdown",
   "metadata": {
    "id": "v4d-S9_-HC8I"
   },
   "source": [
    "## Exercises\n",
    "\n",
    "All of the exercises are focused on practicing the code in the sections above.\n",
    "\n",
    "You should be able to complete them by referencing each section or by following the resource(s) linked.\n",
    "\n",
    "All exercises should be completed using [device-agonistic code](https://pytorch.org/docs/stable/notes/cuda.html#device-agnostic-code).\n",
    "\n",
    "Resources:\n",
    "* [Exercise template notebook for 02](https://github.com/mrdbourke/pytorch-deep-learning/blob/main/extras/exercises/02_pytorch_classification_exercises.ipynb)\n",
    "* [Example solutions notebook for 02](https://github.com/mrdbourke/pytorch-deep-learning/blob/main/extras/solutions/02_pytorch_classification_exercise_solutions.ipynb) (try the exercises *before* looking at this)\n",
    "\n",
    "1. Make a binary classification dataset with Scikit-Learn's [`make_moons()`](https://scikit-learn.org/stable/modules/generated/sklearn.datasets.make_moons.html) function.\n",
    "    * For consistency, the dataset should have 1000 samples and a `random_state=42`.\n",
    "    * Turn the data into PyTorch tensors. Split the data into training and test sets using `train_test_split` with 80% training and 20% testing.\n",
    "2. Build a model by subclassing `nn.Module` that incorporates non-linear activation functions and is capable of fitting the data you created in 1.\n",
    "    * Feel free to use any combination of PyTorch layers (linear and non-linear) you want.\n",
    "3. Setup a binary classification compatible loss function and optimizer to use when training the model.\n",
    "4. Create a training and testing loop to fit the model you created in 2 to the data you created in 1.\n",
    "    * To measure model accuray, you can create your own accuracy function or use the accuracy function in [TorchMetrics](https://torchmetrics.readthedocs.io/en/latest/).\n",
    "    * Train the model for long enough for it to reach over 96% accuracy.\n",
    "    * The training loop should output progress every 10 epochs of the model's training and test set loss and accuracy.\n",
    "5. Make predictions with your trained model and plot them using the `plot_decision_boundary()` function created in this notebook.\n",
    "6. Replicate the Tanh (hyperbolic tangent) activation function in pure PyTorch.\n",
    "    * Feel free to reference the [ML cheatsheet website](https://ml-cheatsheet.readthedocs.io/en/latest/activation_functions.html#tanh) for the formula.\n",
    "7. Create a multi-class dataset using the [spirals data creation function from CS231n](https://cs231n.github.io/neural-networks-case-study/) (see below for the code).\n",
    "    * Construct a model capable of fitting the data (you may need a combination of linear and non-linear layers).\n",
    "    * Build a loss function and optimizer capable of handling multi-class data (optional extension: use the Adam optimizer instead of SGD, you may have to experiment with different values of the learning rate to get it working).\n",
    "    * Make a training and testing loop for the multi-class data and train a model on it to reach over 95% testing accuracy (you can use any accuracy measuring function here that you like).\n",
    "    * Plot the decision boundaries on the spirals dataset from your model predictions, the `plot_decision_boundary()` function should work for this dataset too.\n",
    "\n",
    "```python\n",
    "# Code for creating a spiral dataset from CS231n\n",
    "import numpy as np\n",
    "N = 100 # number of points per class\n",
    "D = 2 # dimensionality\n",
    "K = 3 # number of classes\n",
    "X = np.zeros((N*K,D)) # data matrix (each row = single example)\n",
    "y = np.zeros(N*K, dtype='uint8') # class labels\n",
    "for j in range(K):\n",
    "  ix = range(N*j,N*(j+1))\n",
    "  r = np.linspace(0.0,1,N) # radius\n",
    "  t = np.linspace(j*4,(j+1)*4,N) + np.random.randn(N)*0.2 # theta\n",
    "  X[ix] = np.c_[r*np.sin(t), r*np.cos(t)]\n",
    "  y[ix] = j\n",
    "# lets visualize the data\n",
    "plt.scatter(X[:, 0], X[:, 1], c=y, s=40, cmap=plt.cm.Spectral)\n",
    "plt.show()\n",
    "```\n",
    "\n",
    "## Extra-curriculum\n",
    "\n",
    "* Write down 3 problems where you think machine classification could be useful (these can be anything, get creative as you like, for example, classifying credit card transactions as fraud or not fraud based on the purchase amount and purchase location features). \n",
    "* Research the concept of \"momentum\" in gradient-based optimizers (like SGD or Adam), what does it mean?\n",
    "* Spend 10-minutes reading the [Wikipedia page for different activation functions](https://en.wikipedia.org/wiki/Activation_function#Table_of_activation_functions), how many of these can you line up with [PyTorch's activation functions](https://pytorch.org/docs/stable/nn.html#non-linear-activations-weighted-sum-nonlinearity)?\n",
    "* Research when accuracy might be a poor metric to use (hint: read [\"Beyond Accuracy\" by by Will Koehrsen](https://willkoehrsen.github.io/statistics/learning/beyond-accuracy-precision-and-recall/) for ideas).\n",
    "* **Watch:** For an idea of what's happening within our neural networks and what they're doing to learn, watch [MIT's Introduction to Deep Learning video](https://youtu.be/7sB052Pz0sQ)."
   ]
  }
 ],
 "metadata": {
  "accelerator": "GPU",
  "colab": {
   "collapsed_sections": [],
   "include_colab_link": true,
   "name": "02_pytorch_classification.ipynb",
   "provenance": []
  },
  "interpreter": {
   "hash": "3fbe1355223f7b2ffc113ba3ade6a2b520cadace5d5ec3e828c83ce02eb221bf"
  },
  "kernelspec": {
   "display_name": "Python 3 (ipykernel)",
   "language": "python",
   "name": "python3"
  },
  "language_info": {
   "codemirror_mode": {
    "name": "ipython",
    "version": 3
   },
   "file_extension": ".py",
   "mimetype": "text/x-python",
   "name": "python",
   "nbconvert_exporter": "python",
   "pygments_lexer": "ipython3",
   "version": "3.8.12"
  }
 },
 "nbformat": 4,
 "nbformat_minor": 4
}
